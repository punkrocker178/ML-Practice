{
 "cells": [
  {
   "cell_type": "code",
   "execution_count": 90,
   "metadata": {},
   "outputs": [],
   "source": [
    "import numpy as np\n",
    "import pandas as pd\n",
    "from sklearn.linear_model import LinearRegression\n",
    "from sklearn import metrics\n"
   ]
  },
  {
   "cell_type": "code",
   "execution_count": 91,
   "metadata": {},
   "outputs": [],
   "source": [
    "# Dữ liệu được lấy từ \n",
    "# https://archive.ics.uci.edu/ml/datasets/Student+Performance\n",
    "\n",
    "# Dự đoán số điểm cuối kì của học sinh (cột 32)\n",
    "pd.set_option('display.max_columns', None)\n",
    "df = pd.read_csv(\"data/student.csv\")\n",
    "\n",
    "df = df.replace('yes', value=1)\n",
    "df = df.replace('no', value=0)\n",
    "\n",
    "useful_columns = ['age', 'traveltime', 'studytime',\n",
    "                  'failures', 'famrel', 'freetime',\n",
    "                  'goout', 'Dalc', 'Walc', 'health',\n",
    "                  'absences', 'G1', 'G2']\n",
    "\n",
    "boolean_columns = ['schoolsup', 'famsup', 'paid', 'activities', 'nursery', 'higher', 'internet', 'romantic']\n",
    "\n",
    "# Dữ liệu không bao gồm các cột boolean\n",
    "new_data = df[useful_columns]\n",
    "\n",
    "# Dữ liệu bao gồm cả cột boolean\n",
    "more_accurate_data = df[useful_columns + boolean_columns]\n",
    "\n",
    "data = df.values\n",
    "\n",
    "# Lấy cột số 32 làm y\n",
    "y = data[:,-1:]\n",
    "y = y.ravel()\n",
    "\n"
   ]
  },
  {
   "cell_type": "code",
   "execution_count": 97,
   "metadata": {},
   "outputs": [],
   "source": [
    "# X từ dữ liệu bao gồm cả cột boolean\n",
    "X_train_all = more_accurate_data[:100]\n",
    "X_test_all= more_accurate_data[101:111]"
   ]
  },
  {
   "cell_type": "code",
   "execution_count": 98,
   "metadata": {},
   "outputs": [
    {
     "name": "stdout",
     "output_type": "stream",
     "text": [
      "[6 6 10]\n",
      "[17 14 6]\n"
     ]
    }
   ],
   "source": [
    "# X từ dữ liệu không bao gồm các cột boolean\n",
    "X_train = new_data[:100]\n",
    "X_test = new_data[101:111]\n",
    "\n",
    "y_train = y[:100]\n",
    "y_test = y[101:111]\n",
    "\n",
    "print(y_train[:3])\n",
    "print(y_test[:3])"
   ]
  },
  {
   "cell_type": "code",
   "execution_count": 95,
   "metadata": {},
   "outputs": [
    {
     "name": "stdout",
     "output_type": "stream",
     "text": [
      "[17.0563132  13.06563583  5.33897439 18.34031484 10.56137204  8.17357564\n",
      " 18.09056848 11.83045001 14.80252703 19.24178496]\n",
      "[17 14 6 18 11 8 18 13 16 19]\n"
     ]
    }
   ],
   "source": [
    "# Fit model cho X_train\n",
    "model = LinearRegression()\n",
    "model.fit(X_train, y_train)\n",
    "\n",
    "# So sánh giữa y được tính và y dữ liệu thật\n",
    "y_predict = model.predict(X_test)\n",
    "print(y_predict)\n",
    "print(y_test)\n"
   ]
  },
  {
   "cell_type": "code",
   "execution_count": 101,
   "metadata": {},
   "outputs": [
    {
     "name": "stdout",
     "output_type": "stream",
     "text": [
      "[17.05054898 13.47908552  5.40672869 18.26693799 10.42449334  8.13746406\n",
      " 18.07071126 11.80341375 14.86427848 19.18059376]\n",
      "[17 14 6 18 11 8 18 13 16 19]\n"
     ]
    }
   ],
   "source": [
    "# Fit model cho X_train_all\n",
    "modelAll = LinearRegression()\n",
    "modelAll.fit(X_train_all, y_train)\n",
    "\n",
    "y_predict_all = modelAll.predict(X_test_all)\n",
    "print(y_predict_all)\n",
    "print(y_test)"
   ]
  },
  {
   "cell_type": "code",
   "execution_count": 102,
   "metadata": {},
   "outputs": [
    {
     "name": "stdout",
     "output_type": "stream",
     "text": [
      "0.45199509433852453\n",
      "0.38065343086472986\n"
     ]
    }
   ],
   "source": [
    "from sklearn.metrics import mean_squared_error\n",
    "from math import sqrt\n",
    "\n",
    "# So sánh độ sai của dữ liệu X_train và dữ liệu X_train_all\n",
    "# Em nhận thấy khi ta tăng thêm cột thuộc tính thì độ chính xác sẽ tăng, độ sai lệch sẽ giảm\n",
    "MSE = mean_squared_error(y_test, y_predict)\n",
    "MSE_all = mean_squared_error(y_test, y_predict_all)\n",
    "print(MSE)\n",
    "print(MSE_all)"
   ]
  },
  {
   "cell_type": "code",
   "execution_count": null,
   "metadata": {},
   "outputs": [],
   "source": []
  },
  {
   "cell_type": "code",
   "execution_count": null,
   "metadata": {},
   "outputs": [],
   "source": []
  }
 ],
 "metadata": {
  "kernelspec": {
   "display_name": "Python 3",
   "language": "python",
   "name": "python3"
  },
  "language_info": {
   "codemirror_mode": {
    "name": "ipython",
    "version": 3
   },
   "file_extension": ".py",
   "mimetype": "text/x-python",
   "name": "python",
   "nbconvert_exporter": "python",
   "pygments_lexer": "ipython3",
   "version": "3.8.5"
  }
 },
 "nbformat": 4,
 "nbformat_minor": 4
}
