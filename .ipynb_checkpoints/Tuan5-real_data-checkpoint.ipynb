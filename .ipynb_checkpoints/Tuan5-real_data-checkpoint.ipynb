{
 "cells": [
  {
   "cell_type": "code",
   "execution_count": 1,
   "metadata": {},
   "outputs": [],
   "source": [
    "import numpy as np\n",
    "import pandas as pd"
   ]
  },
  {
   "cell_type": "code",
   "execution_count": 7,
   "metadata": {},
   "outputs": [],
   "source": [
    "df = pd.read_csv(\"data/adult.data\")\n",
    "df=df.sample(n=200)"
   ]
  },
  {
   "cell_type": "code",
   "execution_count": 10,
   "metadata": {},
   "outputs": [
    {
     "name": "stdout",
     "output_type": "stream",
     "text": [
      "(200, 15)\n",
      "[' <=50K' ' <=50K' ' <=50K']\n"
     ]
    }
   ],
   "source": [
    "data = df.values\n",
    "print(data.shape)\n",
    "y = data[:, -1:]\n",
    "y = y.ravel()\n",
    "print(y[:3])"
   ]
  },
  {
   "cell_type": "code",
   "execution_count": 12,
   "metadata": {},
   "outputs": [
    {
     "name": "stdout",
     "output_type": "stream",
     "text": [
      "[0 0 0 0 1 0 0 0 0 0]\n",
      "[1 1 1 1 1 1 1 1 1 1 1 1 1 1 1 1 1 1 1 1 1 1 1 1 1 1 1 1 1 1 1 1 1 1 1 1 1\n",
      " 1 1 1 1]\n",
      "[0 0 0 0 0 0 0 0 0 0 0 0 0 0 0 0 0 0 0 0 0 0 0 0 0 0 0 0 0 0 0 0 0 0 0 0 0\n",
      " 0 0 0 0 0 0 0 0 0 0 0 0 0 0 0 0 0 0 0 0 0 0 0 0 0 0 0 0 0 0 0 0 0 0 0 0 0\n",
      " 0 0 0 0 0 0 0 0 0 0 0 0 0 0 0 0 0 0 0 0 0 0 0 0 0 0 0 0 0 0 0 0 0 0 0 0 0\n",
      " 0 0 0 0 0 0 0 0 0 0 0 0 0 0 0 0 0 0 0 0 0 0 0 0 0 0 0 0 0 0 0 0 0 0 0 0 0\n",
      " 0 0 0 0 0 0 0 0 0 0 0]\n"
     ]
    }
   ],
   "source": [
    "from sklearn.preprocessing import LabelEncoder\n",
    "LE = LabelEncoder()\n",
    "y = LE.fit_transform(y)\n",
    "print(y[:10])\n",
    "y1 = y[y==1]\n",
    "y0 = y[y==0]\n",
    "print(y1)\n",
    "print(y0)"
   ]
  },
  {
   "cell_type": "code",
   "execution_count": 17,
   "metadata": {},
   "outputs": [
    {
     "name": "stdout",
     "output_type": "stream",
     "text": [
      "(200, 6)\n",
      "       39   77516   13   2174     0   40\n",
      "19384  40  111971    9      0     0   30\n",
      "27055  26  165235   13      0     0   40\n",
      "19592  36  195516    9      0     0   40\n",
      "15263  73   45784   10      0     0   11\n",
      "27111  48   38240    9      0     0   40\n",
      "...    ..     ...  ...    ...   ...  ...\n",
      "27723  57   47857    9      0     0   40\n",
      "16024  38   93206   13      0  1902   65\n",
      "20489  52  194788   14   4787     0   60\n",
      "10080  25  120238    9      0     0   40\n",
      "10477  46  332355   10      0     0   40\n",
      "\n",
      "[200 rows x 6 columns]\n",
      "[[    40 111971      9      0      0     30]\n",
      " [    26 165235     13      0      0     40]\n",
      " [    36 195516      9      0      0     40]\n",
      " ...\n",
      " [    52 194788     14   4787      0     60]\n",
      " [    25 120238      9      0      0     40]\n",
      " [    46 332355     10      0      0     40]]\n"
     ]
    }
   ],
   "source": [
    "dataX = df.select_dtypes(include=['float64', 'int64'])\n",
    "print(dataX.shape)\n",
    "print(dataX)\n",
    "x = dataX.values\n",
    "print(x)"
   ]
  },
  {
   "cell_type": "code",
   "execution_count": 22,
   "metadata": {},
   "outputs": [
    {
     "name": "stdout",
     "output_type": "stream",
     "text": [
      "[[0.34848485 0.09853818 0.46153846 0.         0.         0.31506849]\n",
      " [0.13636364 0.16025519 0.76923077 0.         0.         0.45205479]\n",
      " [0.28787879 0.19534179 0.46153846 0.         0.         0.45205479]\n",
      " ...\n",
      " [0.53030303 0.19449826 0.84615385 0.04787048 0.         0.7260274 ]\n",
      " [0.12121212 0.10811716 0.46153846 0.         0.         0.45205479]\n",
      " [0.43939394 0.35389717 0.53846154 0.         0.         0.45205479]]\n"
     ]
    }
   ],
   "source": [
    "from sklearn.preprocessing import MinMaxScaler\n",
    "scaler = MinMaxScaler()\n",
    "scaler.fit(x)\n",
    "X = scaler.transform(x)\n",
    "print(X)"
   ]
  },
  {
   "cell_type": "code",
   "execution_count": 23,
   "metadata": {},
   "outputs": [
    {
     "name": "stdout",
     "output_type": "stream",
     "text": [
      "(160, 6) (160,)\n",
      "(40, 6) (40,)\n"
     ]
    }
   ],
   "source": [
    "from sklearn.model_selection import train_test_split\n",
    "X_train,X_test,y_train,y_test = train_test_split(X,y,test_size=0.2, random_state=4)\n",
    "print(X_train.shape, y_train.shape)\n",
    "print(X_test.shape, y_test.shape)"
   ]
  },
  {
   "cell_type": "code",
   "execution_count": null,
   "metadata": {},
   "outputs": [],
   "source": []
  }
 ],
 "metadata": {
  "kernelspec": {
   "display_name": "Python 3",
   "language": "python",
   "name": "python3"
  },
  "language_info": {
   "codemirror_mode": {
    "name": "ipython",
    "version": 3
   },
   "file_extension": ".py",
   "mimetype": "text/x-python",
   "name": "python",
   "nbconvert_exporter": "python",
   "pygments_lexer": "ipython3",
   "version": "3.8.5"
  }
 },
 "nbformat": 4,
 "nbformat_minor": 4
}
