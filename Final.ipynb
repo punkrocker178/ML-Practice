{
 "cells": [
  {
   "cell_type": "code",
   "execution_count": 230,
   "metadata": {},
   "outputs": [
    {
     "output_type": "stream",
     "name": "stdout",
     "text": [
      "      vhigh vhigh.1  2   2.1  small   low  unacc\n1096    med     med  2     4    big  high  vgood\n1105    med     med  2  more    big  high  vgood\n1123    med     med  3     4    big  high  vgood\n1129    med     med  3  more    med  high  vgood\n1132    med     med  3  more    big  high  vgood\n...     ...     ... ..   ...    ...   ...    ...\n60    vhigh   vhigh  4     2    big   med  unacc\n61    vhigh   vhigh  4     2    big  high  unacc\n62    vhigh   vhigh  4     4  small   low  unacc\n63    vhigh   vhigh  4     4  small   med  unacc\n64    vhigh   vhigh  4     4  small  high  unacc\n\n[260 rows x 7 columns]\n"
     ]
    }
   ],
   "source": [
    "import pandas as pd\n",
    "from matplotlib import pyplot as plt\n",
    "\n",
    "df = pd.read_csv(\"data/car.data\")\n",
    "\n",
    "\n",
    "balancedDF = pd.DataFrame()\n",
    "\n",
    "vgoodData = df[df.iloc[:,-1].str[:] == 'vgood']\n",
    "maxRows = len(vgoodData.values)\n",
    "\n",
    "goodData = df[df.iloc[:,-1].str[:] == 'good']\n",
    "accData = df[df.iloc[:,-1].str[:] == 'acc']\n",
    "unaccData = df[df.iloc[:,-1].str[:] == 'unacc']\n",
    "\n",
    "balancedDF = balancedDF.append(vgoodData)\n",
    "balancedDF = balancedDF.append(goodData.head(maxRows))\n",
    "balancedDF = balancedDF.append(accData.head(maxRows))\n",
    "balancedDF = balancedDF.append(unaccData.head(maxRows))\n",
    "\n",
    "print(balancedDF)"
   ]
  },
  {
   "cell_type": "code",
   "execution_count": 231,
   "metadata": {},
   "outputs": [],
   "source": [
    "data = pd.DataFrame()\n",
    "balanced_data = pd.DataFrame()\n",
    "columns = [\"buying\", \"maint\", \"doors\", \"persons\", \"lug_boot\", \"safety\", \"classify\"]\n",
    "for index, col in enumerate(columns):\n",
    "    if col != \"classify\":\n",
    "        data = pd.concat([data, pd.get_dummies(df.iloc[:,index], prefix=col)], axis=1)\n",
    "        balanced_data = pd.concat([balanced_data, pd.get_dummies(balancedDF.iloc[:,index], prefix=col)], axis=1)"
   ]
  },
  {
   "cell_type": "code",
   "execution_count": 232,
   "metadata": {},
   "outputs": [
    {
     "output_type": "stream",
     "name": "stdout",
     "text": [
      "X:\n[[0 0 0 ... 0 0 1]\n [0 0 0 ... 1 0 0]\n [0 0 0 ... 0 1 0]\n ...\n [0 1 0 ... 0 1 0]\n [0 1 0 ... 0 0 1]\n [0 1 0 ... 1 0 0]]\n\nY:\n[[0 0 1 0]\n [0 0 1 0]\n [0 0 1 0]\n ...\n [0 0 1 0]\n [0 1 0 0]\n [0 0 0 1]]\n"
     ]
    }
   ],
   "source": [
    "from sklearn.preprocessing import LabelEncoder\n",
    "LE = LabelEncoder()\n",
    "\n",
    "X = data.values\n",
    "X_balanced = balanced_data.values\n",
    "print(\"X:\")\n",
    "print(X)\n",
    "print()\n",
    "\n",
    "y_nominal = df.iloc[:,-1].values\n",
    "y_nominal_balanced = balancedDF.iloc[:,-1].values\n",
    "\n",
    "# y = pd.get_dummies(y_nominal, prefix=\"classify\")\n",
    "# y_balanced = pd.get_dummies(y_nominal_balanced, prefix=\"classify\")\n",
    "# print(y)\n",
    "# print(y_balance)\n",
    "\n",
    "# y = y.values\n",
    "# y_balanced = y_balanced.values\n",
    "y_label_encoded = LE.fit_transform(y_nominal)\n",
    "y_balanced_label_encoded = LE.fit_transform(y_nominal_balanced)\n",
    "\n",
    "print(\"Y:\")\n",
    "print(y)"
   ]
  },
  {
   "cell_type": "code",
   "execution_count": 233,
   "metadata": {},
   "outputs": [
    {
     "output_type": "display_data",
     "data": {
      "text/plain": "<Figure size 576x576 with 1 Axes>",
      "image/svg+xml": "<?xml version=\"1.0\" encoding=\"utf-8\" standalone=\"no\"?>\n<!DOCTYPE svg PUBLIC \"-//W3C//DTD SVG 1.1//EN\"\n  \"http://www.w3.org/Graphics/SVG/1.1/DTD/svg11.dtd\">\n<!-- Created with matplotlib (https://matplotlib.org/) -->\n<svg height=\"449.28pt\" version=\"1.1\" viewBox=\"0 0 462.958125 449.28\" width=\"462.958125pt\" xmlns=\"http://www.w3.org/2000/svg\" xmlns:xlink=\"http://www.w3.org/1999/xlink\">\n <metadata>\n  <rdf:RDF xmlns:cc=\"http://creativecommons.org/ns#\" xmlns:dc=\"http://purl.org/dc/elements/1.1/\" xmlns:rdf=\"http://www.w3.org/1999/02/22-rdf-syntax-ns#\">\n   <cc:Work>\n    <dc:type rdf:resource=\"http://purl.org/dc/dcmitype/StillImage\"/>\n    <dc:date>2020-11-20T17:43:07.462655</dc:date>\n    <dc:format>image/svg+xml</dc:format>\n    <dc:creator>\n     <cc:Agent>\n      <dc:title>Matplotlib v3.3.2, https://matplotlib.org/</dc:title>\n     </cc:Agent>\n    </dc:creator>\n   </cc:Work>\n  </rdf:RDF>\n </metadata>\n <defs>\n  <style type=\"text/css\">*{stroke-linecap:butt;stroke-linejoin:round;}</style>\n </defs>\n <g id=\"figure_1\">\n  <g id=\"patch_1\">\n   <path d=\"M 0 449.28 \nL 462.958125 449.28 \nL 462.958125 0 \nL 0 0 \nz\n\" style=\"fill:none;\"/>\n  </g>\n  <g id=\"axes_1\">\n   <g id=\"patch_2\">\n    <path d=\"M 238.318125 50.688 \nC 206.237709 50.688 174.773996 59.562457 147.421707 76.325673 \nC 120.069419 93.088889 97.880177 117.096362 83.318573 145.681547 \nC 68.75697 174.266732 62.38286 206.330605 64.904225 238.311784 \nC 67.425591 270.292963 78.745491 300.961858 97.606609 326.912028 \nC 116.467727 352.862197 142.144903 373.095929 171.786135 385.36583 \nC 201.427366 397.635732 233.893028 401.470059 265.577109 396.442928 \nC 297.261191 391.415797 326.945526 377.720486 351.333029 356.878155 \nC 375.720533 336.035824 393.873572 308.847805 403.775861 278.33391 \nL 238.318125 224.64 \nL 238.318125 50.688 \nz\n\" style=\"fill:#1f77b4;\"/>\n   </g>\n   <g id=\"patch_3\">\n    <path d=\"M 403.775861 278.33391 \nC 416.403889 239.420651 414.908165 197.272778 399.553506 159.352556 \nC 384.198846 121.432334 355.948264 90.11804 319.803513 70.953859 \nL 238.318125 224.64 \nL 403.775861 278.33391 \nz\n\" style=\"fill:#ff7f0e;\"/>\n   </g>\n   <g id=\"patch_4\">\n    <path d=\"M 319.803513 70.953859 \nC 313.371269 67.543442 306.731259 64.5402 299.922671 61.961857 \nC 293.114084 59.383515 286.150339 57.235154 279.072535 55.529455 \nL 238.318125 224.64 \nL 319.803513 70.953859 \nz\n\" style=\"fill:#2ca02c;\"/>\n   </g>\n   <g id=\"patch_5\">\n    <path d=\"M 279.072535 55.529455 \nC 272.405285 53.922696 265.648845 52.711631 258.838604 51.902603 \nC 252.028364 51.093575 245.176235 50.687999 238.318109 50.688 \nL 238.318125 224.64 \nL 279.072535 55.529455 \nz\n\" style=\"fill:#d62728;\"/>\n   </g>\n   <g id=\"matplotlib.axis_1\"/>\n   <g id=\"matplotlib.axis_2\">\n    <g id=\"text_1\">\n     <!-- labels -->\n     <g transform=\"translate(14.798438 239.337656)rotate(-90)scale(0.1 -0.1)\">\n      <defs>\n       <path d=\"M 9.421875 75.984375 \nL 18.40625 75.984375 \nL 18.40625 0 \nL 9.421875 0 \nz\n\" id=\"DejaVuSans-108\"/>\n       <path d=\"M 34.28125 27.484375 \nQ 23.390625 27.484375 19.1875 25 \nQ 14.984375 22.515625 14.984375 16.5 \nQ 14.984375 11.71875 18.140625 8.90625 \nQ 21.296875 6.109375 26.703125 6.109375 \nQ 34.1875 6.109375 38.703125 11.40625 \nQ 43.21875 16.703125 43.21875 25.484375 \nL 43.21875 27.484375 \nz\nM 52.203125 31.203125 \nL 52.203125 0 \nL 43.21875 0 \nL 43.21875 8.296875 \nQ 40.140625 3.328125 35.546875 0.953125 \nQ 30.953125 -1.421875 24.3125 -1.421875 \nQ 15.921875 -1.421875 10.953125 3.296875 \nQ 6 8.015625 6 15.921875 \nQ 6 25.140625 12.171875 29.828125 \nQ 18.359375 34.515625 30.609375 34.515625 \nL 43.21875 34.515625 \nL 43.21875 35.40625 \nQ 43.21875 41.609375 39.140625 45 \nQ 35.0625 48.390625 27.6875 48.390625 \nQ 23 48.390625 18.546875 47.265625 \nQ 14.109375 46.140625 10.015625 43.890625 \nL 10.015625 52.203125 \nQ 14.9375 54.109375 19.578125 55.046875 \nQ 24.21875 56 28.609375 56 \nQ 40.484375 56 46.34375 49.84375 \nQ 52.203125 43.703125 52.203125 31.203125 \nz\n\" id=\"DejaVuSans-97\"/>\n       <path d=\"M 48.6875 27.296875 \nQ 48.6875 37.203125 44.609375 42.84375 \nQ 40.53125 48.484375 33.40625 48.484375 \nQ 26.265625 48.484375 22.1875 42.84375 \nQ 18.109375 37.203125 18.109375 27.296875 \nQ 18.109375 17.390625 22.1875 11.75 \nQ 26.265625 6.109375 33.40625 6.109375 \nQ 40.53125 6.109375 44.609375 11.75 \nQ 48.6875 17.390625 48.6875 27.296875 \nz\nM 18.109375 46.390625 \nQ 20.953125 51.265625 25.265625 53.625 \nQ 29.59375 56 35.59375 56 \nQ 45.5625 56 51.78125 48.09375 \nQ 58.015625 40.1875 58.015625 27.296875 \nQ 58.015625 14.40625 51.78125 6.484375 \nQ 45.5625 -1.421875 35.59375 -1.421875 \nQ 29.59375 -1.421875 25.265625 0.953125 \nQ 20.953125 3.328125 18.109375 8.203125 \nL 18.109375 0 \nL 9.078125 0 \nL 9.078125 75.984375 \nL 18.109375 75.984375 \nz\n\" id=\"DejaVuSans-98\"/>\n       <path d=\"M 56.203125 29.59375 \nL 56.203125 25.203125 \nL 14.890625 25.203125 \nQ 15.484375 15.921875 20.484375 11.0625 \nQ 25.484375 6.203125 34.421875 6.203125 \nQ 39.59375 6.203125 44.453125 7.46875 \nQ 49.3125 8.734375 54.109375 11.28125 \nL 54.109375 2.78125 \nQ 49.265625 0.734375 44.1875 -0.34375 \nQ 39.109375 -1.421875 33.890625 -1.421875 \nQ 20.796875 -1.421875 13.15625 6.1875 \nQ 5.515625 13.8125 5.515625 26.8125 \nQ 5.515625 40.234375 12.765625 48.109375 \nQ 20.015625 56 32.328125 56 \nQ 43.359375 56 49.78125 48.890625 \nQ 56.203125 41.796875 56.203125 29.59375 \nz\nM 47.21875 32.234375 \nQ 47.125 39.59375 43.09375 43.984375 \nQ 39.0625 48.390625 32.421875 48.390625 \nQ 24.90625 48.390625 20.390625 44.140625 \nQ 15.875 39.890625 15.1875 32.171875 \nz\n\" id=\"DejaVuSans-101\"/>\n       <path d=\"M 44.28125 53.078125 \nL 44.28125 44.578125 \nQ 40.484375 46.53125 36.375 47.5 \nQ 32.28125 48.484375 27.875 48.484375 \nQ 21.1875 48.484375 17.84375 46.4375 \nQ 14.5 44.390625 14.5 40.28125 \nQ 14.5 37.15625 16.890625 35.375 \nQ 19.28125 33.59375 26.515625 31.984375 \nL 29.59375 31.296875 \nQ 39.15625 29.25 43.1875 25.515625 \nQ 47.21875 21.78125 47.21875 15.09375 \nQ 47.21875 7.46875 41.1875 3.015625 \nQ 35.15625 -1.421875 24.609375 -1.421875 \nQ 20.21875 -1.421875 15.453125 -0.5625 \nQ 10.6875 0.296875 5.421875 2 \nL 5.421875 11.28125 \nQ 10.40625 8.6875 15.234375 7.390625 \nQ 20.0625 6.109375 24.8125 6.109375 \nQ 31.15625 6.109375 34.5625 8.28125 \nQ 37.984375 10.453125 37.984375 14.40625 \nQ 37.984375 18.0625 35.515625 20.015625 \nQ 33.0625 21.96875 24.703125 23.78125 \nL 21.578125 24.515625 \nQ 13.234375 26.265625 9.515625 29.90625 \nQ 5.8125 33.546875 5.8125 39.890625 \nQ 5.8125 47.609375 11.28125 51.796875 \nQ 16.75 56 26.8125 56 \nQ 31.78125 56 36.171875 55.265625 \nQ 40.578125 54.546875 44.28125 53.078125 \nz\n\" id=\"DejaVuSans-115\"/>\n      </defs>\n      <use xlink:href=\"#DejaVuSans-108\"/>\n      <use x=\"27.783203\" xlink:href=\"#DejaVuSans-97\"/>\n      <use x=\"89.0625\" xlink:href=\"#DejaVuSans-98\"/>\n      <use x=\"152.539062\" xlink:href=\"#DejaVuSans-101\"/>\n      <use x=\"214.0625\" xlink:href=\"#DejaVuSans-108\"/>\n      <use x=\"241.845703\" xlink:href=\"#DejaVuSans-115\"/>\n     </g>\n    </g>\n   </g>\n   <g id=\"text_2\">\n    <!-- unacc -->\n    <g transform=\"translate(53.735458 339.898605)scale(0.1 -0.1)\">\n     <defs>\n      <path d=\"M 8.5 21.578125 \nL 8.5 54.6875 \nL 17.484375 54.6875 \nL 17.484375 21.921875 \nQ 17.484375 14.15625 20.5 10.265625 \nQ 23.53125 6.390625 29.59375 6.390625 \nQ 36.859375 6.390625 41.078125 11.03125 \nQ 45.3125 15.671875 45.3125 23.6875 \nL 45.3125 54.6875 \nL 54.296875 54.6875 \nL 54.296875 0 \nL 45.3125 0 \nL 45.3125 8.40625 \nQ 42.046875 3.421875 37.71875 1 \nQ 33.40625 -1.421875 27.6875 -1.421875 \nQ 18.265625 -1.421875 13.375 4.4375 \nQ 8.5 10.296875 8.5 21.578125 \nz\nM 31.109375 56 \nz\n\" id=\"DejaVuSans-117\"/>\n      <path d=\"M 54.890625 33.015625 \nL 54.890625 0 \nL 45.90625 0 \nL 45.90625 32.71875 \nQ 45.90625 40.484375 42.875 44.328125 \nQ 39.84375 48.1875 33.796875 48.1875 \nQ 26.515625 48.1875 22.3125 43.546875 \nQ 18.109375 38.921875 18.109375 30.90625 \nL 18.109375 0 \nL 9.078125 0 \nL 9.078125 54.6875 \nL 18.109375 54.6875 \nL 18.109375 46.1875 \nQ 21.34375 51.125 25.703125 53.5625 \nQ 30.078125 56 35.796875 56 \nQ 45.21875 56 50.046875 50.171875 \nQ 54.890625 44.34375 54.890625 33.015625 \nz\n\" id=\"DejaVuSans-110\"/>\n      <path d=\"M 48.78125 52.59375 \nL 48.78125 44.1875 \nQ 44.96875 46.296875 41.140625 47.34375 \nQ 37.3125 48.390625 33.40625 48.390625 \nQ 24.65625 48.390625 19.8125 42.84375 \nQ 14.984375 37.3125 14.984375 27.296875 \nQ 14.984375 17.28125 19.8125 11.734375 \nQ 24.65625 6.203125 33.40625 6.203125 \nQ 37.3125 6.203125 41.140625 7.25 \nQ 44.96875 8.296875 48.78125 10.40625 \nL 48.78125 2.09375 \nQ 45.015625 0.34375 40.984375 -0.53125 \nQ 36.96875 -1.421875 32.421875 -1.421875 \nQ 20.0625 -1.421875 12.78125 6.34375 \nQ 5.515625 14.109375 5.515625 27.296875 \nQ 5.515625 40.671875 12.859375 48.328125 \nQ 20.21875 56 33.015625 56 \nQ 37.15625 56 41.109375 55.140625 \nQ 45.0625 54.296875 48.78125 52.59375 \nz\n\" id=\"DejaVuSans-99\"/>\n     </defs>\n     <use xlink:href=\"#DejaVuSans-117\"/>\n     <use x=\"63.378906\" xlink:href=\"#DejaVuSans-110\"/>\n     <use x=\"126.757812\" xlink:href=\"#DejaVuSans-97\"/>\n     <use x=\"188.037109\" xlink:href=\"#DejaVuSans-99\"/>\n     <use x=\"243.017578\" xlink:href=\"#DejaVuSans-99\"/>\n    </g>\n   </g>\n   <g id=\"text_3\">\n    <!-- 70.0% -->\n    <g transform=\"translate(138.007622 288.762592)scale(0.1 -0.1)\">\n     <defs>\n      <path d=\"M 8.203125 72.90625 \nL 55.078125 72.90625 \nL 55.078125 68.703125 \nL 28.609375 0 \nL 18.3125 0 \nL 43.21875 64.59375 \nL 8.203125 64.59375 \nz\n\" id=\"DejaVuSans-55\"/>\n      <path d=\"M 31.78125 66.40625 \nQ 24.171875 66.40625 20.328125 58.90625 \nQ 16.5 51.421875 16.5 36.375 \nQ 16.5 21.390625 20.328125 13.890625 \nQ 24.171875 6.390625 31.78125 6.390625 \nQ 39.453125 6.390625 43.28125 13.890625 \nQ 47.125 21.390625 47.125 36.375 \nQ 47.125 51.421875 43.28125 58.90625 \nQ 39.453125 66.40625 31.78125 66.40625 \nz\nM 31.78125 74.21875 \nQ 44.046875 74.21875 50.515625 64.515625 \nQ 56.984375 54.828125 56.984375 36.375 \nQ 56.984375 17.96875 50.515625 8.265625 \nQ 44.046875 -1.421875 31.78125 -1.421875 \nQ 19.53125 -1.421875 13.0625 8.265625 \nQ 6.59375 17.96875 6.59375 36.375 \nQ 6.59375 54.828125 13.0625 64.515625 \nQ 19.53125 74.21875 31.78125 74.21875 \nz\n\" id=\"DejaVuSans-48\"/>\n      <path d=\"M 10.6875 12.40625 \nL 21 12.40625 \nL 21 0 \nL 10.6875 0 \nz\n\" id=\"DejaVuSans-46\"/>\n      <path d=\"M 72.703125 32.078125 \nQ 68.453125 32.078125 66.03125 28.46875 \nQ 63.625 24.859375 63.625 18.40625 \nQ 63.625 12.0625 66.03125 8.421875 \nQ 68.453125 4.78125 72.703125 4.78125 \nQ 76.859375 4.78125 79.265625 8.421875 \nQ 81.6875 12.0625 81.6875 18.40625 \nQ 81.6875 24.8125 79.265625 28.4375 \nQ 76.859375 32.078125 72.703125 32.078125 \nz\nM 72.703125 38.28125 \nQ 80.421875 38.28125 84.953125 32.90625 \nQ 89.5 27.546875 89.5 18.40625 \nQ 89.5 9.28125 84.9375 3.921875 \nQ 80.375 -1.421875 72.703125 -1.421875 \nQ 64.890625 -1.421875 60.34375 3.921875 \nQ 55.8125 9.28125 55.8125 18.40625 \nQ 55.8125 27.59375 60.375 32.9375 \nQ 64.9375 38.28125 72.703125 38.28125 \nz\nM 22.3125 68.015625 \nQ 18.109375 68.015625 15.6875 64.375 \nQ 13.28125 60.75 13.28125 54.390625 \nQ 13.28125 47.953125 15.671875 44.328125 \nQ 18.0625 40.71875 22.3125 40.71875 \nQ 26.5625 40.71875 28.96875 44.328125 \nQ 31.390625 47.953125 31.390625 54.390625 \nQ 31.390625 60.6875 28.953125 64.34375 \nQ 26.515625 68.015625 22.3125 68.015625 \nz\nM 66.40625 74.21875 \nL 74.21875 74.21875 \nL 28.609375 -1.421875 \nL 20.796875 -1.421875 \nz\nM 22.3125 74.21875 \nQ 30.03125 74.21875 34.609375 68.875 \nQ 39.203125 63.53125 39.203125 54.390625 \nQ 39.203125 45.171875 34.640625 39.84375 \nQ 30.078125 34.515625 22.3125 34.515625 \nQ 14.546875 34.515625 10.03125 39.859375 \nQ 5.515625 45.21875 5.515625 54.390625 \nQ 5.515625 63.484375 10.046875 68.84375 \nQ 14.59375 74.21875 22.3125 74.21875 \nz\n\" id=\"DejaVuSans-37\"/>\n     </defs>\n     <use xlink:href=\"#DejaVuSans-55\"/>\n     <use x=\"63.623047\" xlink:href=\"#DejaVuSans-48\"/>\n     <use x=\"127.246094\" xlink:href=\"#DejaVuSans-46\"/>\n     <use x=\"159.033203\" xlink:href=\"#DejaVuSans-48\"/>\n     <use x=\"222.65625\" xlink:href=\"#DejaVuSans-37\"/>\n    </g>\n   </g>\n   <g id=\"text_4\">\n    <!-- acc -->\n    <g transform=\"translate(415.677044 155.583187)scale(0.1 -0.1)\">\n     <use xlink:href=\"#DejaVuSans-97\"/>\n     <use x=\"61.279297\" xlink:href=\"#DejaVuSans-99\"/>\n     <use x=\"116.259766\" xlink:href=\"#DejaVuSans-99\"/>\n    </g>\n   </g>\n   <g id=\"text_5\">\n    <!-- 22.2% -->\n    <g transform=\"translate(319.17576 188.226909)scale(0.1 -0.1)\">\n     <defs>\n      <path d=\"M 19.1875 8.296875 \nL 53.609375 8.296875 \nL 53.609375 0 \nL 7.328125 0 \nL 7.328125 8.296875 \nQ 12.9375 14.109375 22.625 23.890625 \nQ 32.328125 33.6875 34.8125 36.53125 \nQ 39.546875 41.84375 41.421875 45.53125 \nQ 43.3125 49.21875 43.3125 52.78125 \nQ 43.3125 58.59375 39.234375 62.25 \nQ 35.15625 65.921875 28.609375 65.921875 \nQ 23.96875 65.921875 18.8125 64.3125 \nQ 13.671875 62.703125 7.8125 59.421875 \nL 7.8125 69.390625 \nQ 13.765625 71.78125 18.9375 73 \nQ 24.125 74.21875 28.421875 74.21875 \nQ 39.75 74.21875 46.484375 68.546875 \nQ 53.21875 62.890625 53.21875 53.421875 \nQ 53.21875 48.921875 51.53125 44.890625 \nQ 49.859375 40.875 45.40625 35.40625 \nQ 44.1875 33.984375 37.640625 27.21875 \nQ 31.109375 20.453125 19.1875 8.296875 \nz\n\" id=\"DejaVuSans-50\"/>\n     </defs>\n     <use xlink:href=\"#DejaVuSans-50\"/>\n     <use x=\"63.623047\" xlink:href=\"#DejaVuSans-50\"/>\n     <use x=\"127.246094\" xlink:href=\"#DejaVuSans-46\"/>\n     <use x=\"159.033203\" xlink:href=\"#DejaVuSans-50\"/>\n     <use x=\"222.65625\" xlink:href=\"#DejaVuSans-37\"/>\n    </g>\n   </g>\n   <g id=\"text_6\">\n    <!-- good -->\n    <g transform=\"translate(306.083126 48.453418)scale(0.1 -0.1)\">\n     <defs>\n      <path d=\"M 45.40625 27.984375 \nQ 45.40625 37.75 41.375 43.109375 \nQ 37.359375 48.484375 30.078125 48.484375 \nQ 22.859375 48.484375 18.828125 43.109375 \nQ 14.796875 37.75 14.796875 27.984375 \nQ 14.796875 18.265625 18.828125 12.890625 \nQ 22.859375 7.515625 30.078125 7.515625 \nQ 37.359375 7.515625 41.375 12.890625 \nQ 45.40625 18.265625 45.40625 27.984375 \nz\nM 54.390625 6.78125 \nQ 54.390625 -7.171875 48.1875 -13.984375 \nQ 42 -20.796875 29.203125 -20.796875 \nQ 24.46875 -20.796875 20.265625 -20.09375 \nQ 16.0625 -19.390625 12.109375 -17.921875 \nL 12.109375 -9.1875 \nQ 16.0625 -11.328125 19.921875 -12.34375 \nQ 23.78125 -13.375 27.78125 -13.375 \nQ 36.625 -13.375 41.015625 -8.765625 \nQ 45.40625 -4.15625 45.40625 5.171875 \nL 45.40625 9.625 \nQ 42.625 4.78125 38.28125 2.390625 \nQ 33.9375 0 27.875 0 \nQ 17.828125 0 11.671875 7.65625 \nQ 5.515625 15.328125 5.515625 27.984375 \nQ 5.515625 40.671875 11.671875 48.328125 \nQ 17.828125 56 27.875 56 \nQ 33.9375 56 38.28125 53.609375 \nQ 42.625 51.21875 45.40625 46.390625 \nL 45.40625 54.6875 \nL 54.390625 54.6875 \nz\n\" id=\"DejaVuSans-103\"/>\n      <path d=\"M 30.609375 48.390625 \nQ 23.390625 48.390625 19.1875 42.75 \nQ 14.984375 37.109375 14.984375 27.296875 \nQ 14.984375 17.484375 19.15625 11.84375 \nQ 23.34375 6.203125 30.609375 6.203125 \nQ 37.796875 6.203125 41.984375 11.859375 \nQ 46.1875 17.53125 46.1875 27.296875 \nQ 46.1875 37.015625 41.984375 42.703125 \nQ 37.796875 48.390625 30.609375 48.390625 \nz\nM 30.609375 56 \nQ 42.328125 56 49.015625 48.375 \nQ 55.71875 40.765625 55.71875 27.296875 \nQ 55.71875 13.875 49.015625 6.21875 \nQ 42.328125 -1.421875 30.609375 -1.421875 \nQ 18.84375 -1.421875 12.171875 6.21875 \nQ 5.515625 13.875 5.515625 27.296875 \nQ 5.515625 40.765625 12.171875 48.375 \nQ 18.84375 56 30.609375 56 \nz\n\" id=\"DejaVuSans-111\"/>\n      <path d=\"M 45.40625 46.390625 \nL 45.40625 75.984375 \nL 54.390625 75.984375 \nL 54.390625 0 \nL 45.40625 0 \nL 45.40625 8.203125 \nQ 42.578125 3.328125 38.25 0.953125 \nQ 33.9375 -1.421875 27.875 -1.421875 \nQ 17.96875 -1.421875 11.734375 6.484375 \nQ 5.515625 14.40625 5.515625 27.296875 \nQ 5.515625 40.1875 11.734375 48.09375 \nQ 17.96875 56 27.875 56 \nQ 33.9375 56 38.25 53.625 \nQ 42.578125 51.265625 45.40625 46.390625 \nz\nM 14.796875 27.296875 \nQ 14.796875 17.390625 18.875 11.75 \nQ 22.953125 6.109375 30.078125 6.109375 \nQ 37.203125 6.109375 41.296875 11.75 \nQ 45.40625 17.390625 45.40625 27.296875 \nQ 45.40625 37.203125 41.296875 42.84375 \nQ 37.203125 48.484375 30.078125 48.484375 \nQ 22.953125 48.484375 18.875 42.84375 \nQ 14.796875 37.203125 14.796875 27.296875 \nz\n\" id=\"DejaVuSans-100\"/>\n     </defs>\n     <use xlink:href=\"#DejaVuSans-103\"/>\n     <use x=\"63.476562\" xlink:href=\"#DejaVuSans-111\"/>\n     <use x=\"124.658203\" xlink:href=\"#DejaVuSans-111\"/>\n     <use x=\"185.839844\" xlink:href=\"#DejaVuSans-100\"/>\n    </g>\n   </g>\n   <g id=\"text_7\">\n    <!-- 4.0% -->\n    <g transform=\"translate(262.578509 129.792489)scale(0.1 -0.1)\">\n     <defs>\n      <path d=\"M 37.796875 64.3125 \nL 12.890625 25.390625 \nL 37.796875 25.390625 \nz\nM 35.203125 72.90625 \nL 47.609375 72.90625 \nL 47.609375 25.390625 \nL 58.015625 25.390625 \nL 58.015625 17.1875 \nL 47.609375 17.1875 \nL 47.609375 0 \nL 37.796875 0 \nL 37.796875 17.1875 \nL 4.890625 17.1875 \nL 4.890625 26.703125 \nz\n\" id=\"DejaVuSans-52\"/>\n     </defs>\n     <use xlink:href=\"#DejaVuSans-52\"/>\n     <use x=\"63.623047\" xlink:href=\"#DejaVuSans-46\"/>\n     <use x=\"95.410156\" xlink:href=\"#DejaVuSans-48\"/>\n     <use x=\"159.033203\" xlink:href=\"#DejaVuSans-37\"/>\n    </g>\n   </g>\n   <g id=\"text_8\">\n    <!-- vgood -->\n    <g transform=\"translate(260.890652 37.388239)scale(0.1 -0.1)\">\n     <defs>\n      <path d=\"M 2.984375 54.6875 \nL 12.5 54.6875 \nL 29.59375 8.796875 \nL 46.6875 54.6875 \nL 56.203125 54.6875 \nL 35.6875 0 \nL 23.484375 0 \nz\n\" id=\"DejaVuSans-118\"/>\n     </defs>\n     <use xlink:href=\"#DejaVuSans-118\"/>\n     <use x=\"59.179688\" xlink:href=\"#DejaVuSans-103\"/>\n     <use x=\"122.65625\" xlink:href=\"#DejaVuSans-111\"/>\n     <use x=\"183.837891\" xlink:href=\"#DejaVuSans-111\"/>\n     <use x=\"245.019531\" xlink:href=\"#DejaVuSans-100\"/>\n    </g>\n   </g>\n   <g id=\"text_9\">\n    <!-- 3.8% -->\n    <g transform=\"translate(237.928069 123.756937)scale(0.1 -0.1)\">\n     <defs>\n      <path d=\"M 40.578125 39.3125 \nQ 47.65625 37.796875 51.625 33 \nQ 55.609375 28.21875 55.609375 21.1875 \nQ 55.609375 10.40625 48.1875 4.484375 \nQ 40.765625 -1.421875 27.09375 -1.421875 \nQ 22.515625 -1.421875 17.65625 -0.515625 \nQ 12.796875 0.390625 7.625 2.203125 \nL 7.625 11.71875 \nQ 11.71875 9.328125 16.59375 8.109375 \nQ 21.484375 6.890625 26.8125 6.890625 \nQ 36.078125 6.890625 40.9375 10.546875 \nQ 45.796875 14.203125 45.796875 21.1875 \nQ 45.796875 27.640625 41.28125 31.265625 \nQ 36.765625 34.90625 28.71875 34.90625 \nL 20.21875 34.90625 \nL 20.21875 43.015625 \nL 29.109375 43.015625 \nQ 36.375 43.015625 40.234375 45.921875 \nQ 44.09375 48.828125 44.09375 54.296875 \nQ 44.09375 59.90625 40.109375 62.90625 \nQ 36.140625 65.921875 28.71875 65.921875 \nQ 24.65625 65.921875 20.015625 65.03125 \nQ 15.375 64.15625 9.8125 62.3125 \nL 9.8125 71.09375 \nQ 15.4375 72.65625 20.34375 73.4375 \nQ 25.25 74.21875 29.59375 74.21875 \nQ 40.828125 74.21875 47.359375 69.109375 \nQ 53.90625 64.015625 53.90625 55.328125 \nQ 53.90625 49.265625 50.4375 45.09375 \nQ 46.96875 40.921875 40.578125 39.3125 \nz\n\" id=\"DejaVuSans-51\"/>\n      <path d=\"M 31.78125 34.625 \nQ 24.75 34.625 20.71875 30.859375 \nQ 16.703125 27.09375 16.703125 20.515625 \nQ 16.703125 13.921875 20.71875 10.15625 \nQ 24.75 6.390625 31.78125 6.390625 \nQ 38.8125 6.390625 42.859375 10.171875 \nQ 46.921875 13.96875 46.921875 20.515625 \nQ 46.921875 27.09375 42.890625 30.859375 \nQ 38.875 34.625 31.78125 34.625 \nz\nM 21.921875 38.8125 \nQ 15.578125 40.375 12.03125 44.71875 \nQ 8.5 49.078125 8.5 55.328125 \nQ 8.5 64.0625 14.71875 69.140625 \nQ 20.953125 74.21875 31.78125 74.21875 \nQ 42.671875 74.21875 48.875 69.140625 \nQ 55.078125 64.0625 55.078125 55.328125 \nQ 55.078125 49.078125 51.53125 44.71875 \nQ 48 40.375 41.703125 38.8125 \nQ 48.828125 37.15625 52.796875 32.3125 \nQ 56.78125 27.484375 56.78125 20.515625 \nQ 56.78125 9.90625 50.3125 4.234375 \nQ 43.84375 -1.421875 31.78125 -1.421875 \nQ 19.734375 -1.421875 13.25 4.234375 \nQ 6.78125 9.90625 6.78125 20.515625 \nQ 6.78125 27.484375 10.78125 32.3125 \nQ 14.796875 37.15625 21.921875 38.8125 \nz\nM 18.3125 54.390625 \nQ 18.3125 48.734375 21.84375 45.5625 \nQ 25.390625 42.390625 31.78125 42.390625 \nQ 38.140625 42.390625 41.71875 45.5625 \nQ 45.3125 48.734375 45.3125 54.390625 \nQ 45.3125 60.0625 41.71875 63.234375 \nQ 38.140625 66.40625 31.78125 66.40625 \nQ 25.390625 66.40625 21.84375 63.234375 \nQ 18.3125 60.0625 18.3125 54.390625 \nz\n\" id=\"DejaVuSans-56\"/>\n     </defs>\n     <use xlink:href=\"#DejaVuSans-51\"/>\n     <use x=\"63.623047\" xlink:href=\"#DejaVuSans-46\"/>\n     <use x=\"95.410156\" xlink:href=\"#DejaVuSans-56\"/>\n     <use x=\"159.033203\" xlink:href=\"#DejaVuSans-37\"/>\n    </g>\n   </g>\n   <g id=\"legend_1\">\n    <g id=\"patch_6\">\n     <path d=\"M 27.878125 73.9125 \nL 90.73125 73.9125 \nQ 92.73125 73.9125 92.73125 71.9125 \nL 92.73125 14.2 \nQ 92.73125 12.2 90.73125 12.2 \nL 27.878125 12.2 \nQ 25.878125 12.2 25.878125 14.2 \nL 25.878125 71.9125 \nQ 25.878125 73.9125 27.878125 73.9125 \nz\n\" style=\"fill:#ffffff;opacity:0.8;stroke:#cccccc;stroke-linejoin:miter;\"/>\n    </g>\n    <g id=\"patch_7\">\n     <path d=\"M 29.878125 23.798437 \nL 49.878125 23.798437 \nL 49.878125 16.798437 \nL 29.878125 16.798437 \nz\n\" style=\"fill:#1f77b4;\"/>\n    </g>\n    <g id=\"text_10\">\n     <!-- unacc -->\n     <g transform=\"translate(57.878125 23.798437)scale(0.1 -0.1)\">\n      <use xlink:href=\"#DejaVuSans-117\"/>\n      <use x=\"63.378906\" xlink:href=\"#DejaVuSans-110\"/>\n      <use x=\"126.757812\" xlink:href=\"#DejaVuSans-97\"/>\n      <use x=\"188.037109\" xlink:href=\"#DejaVuSans-99\"/>\n      <use x=\"243.017578\" xlink:href=\"#DejaVuSans-99\"/>\n     </g>\n    </g>\n    <g id=\"patch_8\">\n     <path d=\"M 29.878125 38.476562 \nL 49.878125 38.476562 \nL 49.878125 31.476562 \nL 29.878125 31.476562 \nz\n\" style=\"fill:#ff7f0e;\"/>\n    </g>\n    <g id=\"text_11\">\n     <!-- acc -->\n     <g transform=\"translate(57.878125 38.476562)scale(0.1 -0.1)\">\n      <use xlink:href=\"#DejaVuSans-97\"/>\n      <use x=\"61.279297\" xlink:href=\"#DejaVuSans-99\"/>\n      <use x=\"116.259766\" xlink:href=\"#DejaVuSans-99\"/>\n     </g>\n    </g>\n    <g id=\"patch_9\">\n     <path d=\"M 29.878125 53.154687 \nL 49.878125 53.154687 \nL 49.878125 46.154687 \nL 29.878125 46.154687 \nz\n\" style=\"fill:#2ca02c;\"/>\n    </g>\n    <g id=\"text_12\">\n     <!-- good -->\n     <g transform=\"translate(57.878125 53.154687)scale(0.1 -0.1)\">\n      <use xlink:href=\"#DejaVuSans-103\"/>\n      <use x=\"63.476562\" xlink:href=\"#DejaVuSans-111\"/>\n      <use x=\"124.658203\" xlink:href=\"#DejaVuSans-111\"/>\n      <use x=\"185.839844\" xlink:href=\"#DejaVuSans-100\"/>\n     </g>\n    </g>\n    <g id=\"patch_10\">\n     <path d=\"M 29.878125 67.832812 \nL 49.878125 67.832812 \nL 49.878125 60.832812 \nL 29.878125 60.832812 \nz\n\" style=\"fill:#d62728;\"/>\n    </g>\n    <g id=\"text_13\">\n     <!-- vgood -->\n     <g transform=\"translate(57.878125 67.832812)scale(0.1 -0.1)\">\n      <use xlink:href=\"#DejaVuSans-118\"/>\n      <use x=\"59.179688\" xlink:href=\"#DejaVuSans-103\"/>\n      <use x=\"122.65625\" xlink:href=\"#DejaVuSans-111\"/>\n      <use x=\"183.837891\" xlink:href=\"#DejaVuSans-111\"/>\n      <use x=\"245.019531\" xlink:href=\"#DejaVuSans-100\"/>\n     </g>\n    </g>\n   </g>\n  </g>\n </g>\n</svg>\n",
      "image/png": "[encoded data removed]"
     },
     "metadata": {}
    }
   ],
   "source": [
    "# Categorize label\n",
    "        \n",
    "labelDF = pd.DataFrame({'labels': [len(unaccData.values), len(accData.values), len(goodData.values), len(vgoodData.values)]}, index=['unacc', 'acc', 'good', 'vgood'])\n",
    "plot = labelDF.plot.pie(y='labels', startangle=90, autopct='%1.1f%%', figsize=(8,8))\n"
   ]
  },
  {
   "cell_type": "code",
   "execution_count": 234,
   "metadata": {},
   "outputs": [],
   "source": [
    "import sklearn.model_selection as model_selection\n",
    "\n",
    "X_train, X_test, y_train, y_test = model_selection.train_test_split(X, y_label_encoded, test_size=0.5, train_size=0.5, random_state=4)\n",
    "# X_balanced_train, X_balanced_test, y_balanced_train, y_balaced_test = model_selection.train_test_split(X_balanced, y_balanced, test_size=0.5, train_size=0.5, random_state=4)\n",
    "\n",
    "X_balanced_train, X_balanced_test, y_balanced_train, y_balaced_test = model_selection.train_test_split(X_balanced, y_balanced_label_encoded, test_size=0.5, train_size=0.5, random_state=4)"
   ]
  },
  {
   "cell_type": "code",
   "execution_count": 235,
   "metadata": {},
   "outputs": [
    {
     "output_type": "stream",
     "name": "stdout",
     "text": [
      "K toi uu nhat: 12\nAccuracy: 0.9384615384615385\n"
     ]
    }
   ],
   "source": [
    "from sklearn.neighbors import KNeighborsClassifier \n",
    "from sklearn import metrics\n",
    "\n",
    "accuracy_list = []\n",
    "for num_neighbor in range(1, 51):\n",
    "    knn = KNeighborsClassifier(n_neighbors=num_neighbor, weights='distance', metric='euclidean')\n",
    "    knn.fit(X_balanced_train,y_balanced_train)\n",
    "\n",
    "    y_predict = knn.predict(X_balanced_test)\n",
    "\n",
    "    #Tinh do chinh xac\n",
    "    acc_score = metrics.accuracy_score(y_predict,y_balaced_test)\n",
    "    accuracy_list.append(acc_score)\n",
    "\n",
    "max_acc = accuracy_list[0]\n",
    "max_index = 0\n",
    "for index in range(0, len(accuracy_list)):\n",
    "    if accuracy_list[index] > max_acc:\n",
    "        max_acc = accuracy_list[index]\n",
    "        max_index = index + 1\n",
    "\n",
    "print(\"K toi uu nhat:\", max_index)\n",
    "print(\"Accuracy:\", max_acc)"
   ]
  },
  {
   "cell_type": "code",
   "execution_count": 236,
   "metadata": {},
   "outputs": [
    {
     "output_type": "stream",
     "name": "stdout",
     "text": [
      "predict:\n [2 3 2 2 0 3 1 3 2 1 3 2 3 2 2 1 1 0 0 0 2 1 0 1 0 0 3 0 2 2 2 1 0 2 1 0 1\n 3 3 0 1 3 3 2 2 3 3 1 3 3 1 2 0 1 3 2 1 0 3 2 2 2 1 1 0 2 1 3 3 1 2 0 2 1\n 3 3 1 2 2 1 2 1 3 1 0 2 0 0 1 1 0 3 1 1 2 1 3 3 3 2 1 3 3 2 2 3 2 1 3 2 3\n 3 0 3 0 1 1 1 0 2 0 2 0 0 1 2 3 2 3 3]\ny_true:\n [2 3 2 2 0 3 1 3 2 1 3 2 3 2 2 1 1 0 0 0 2 1 0 1 0 0 3 0 2 2 2 1 0 2 1 0 1\n 3 3 0 1 3 3 2 2 3 3 1 3 3 1 2 0 1 3 2 1 0 3 2 2 2 1 1 0 2 1 3 1 1 2 0 2 1\n 3 3 1 2 2 1 2 1 3 1 0 2 0 0 1 1 0 3 1 1 2 1 3 3 3 2 1 3 3 2 2 3 2 1 3 2 3\n 3 0 3 0 1 1 1 0 2 0 2 0 0 1 2 3 2 3 3]\nacurracy:\n 0.9923076923076923\n              precision    recall  f1-score   support\n\n           0       1.00      1.00      1.00        25\n           1       1.00      0.97      0.99        35\n           2       1.00      1.00      1.00        36\n           3       0.97      1.00      0.99        34\n\n    accuracy                           0.99       130\n   macro avg       0.99      0.99      0.99       130\nweighted avg       0.99      0.99      0.99       130\n\n"
     ]
    }
   ],
   "source": [
    "from sklearn import svm\n",
    "\n",
    "svm_classifier = svm.SVC(kernel='rbf', gamma=0.01, C=100.)\n",
    "svm_classifier.fit(X_balanced_train, y_balanced_train)\n",
    "\n",
    "y_pred_svm = svm_classifier.predict(X_balanced_test)\n",
    "print('predict:\\n', y_pred_svm)\n",
    "print('y_true:\\n', y_balaced_test)\n",
    "\n",
    "acc_score_svm = metrics.accuracy_score(y_pred_svm,y_balaced_test)\n",
    "print('acurracy:\\n', acc_score_svm)\n",
    "print(metrics.classification_report(y_balaced_test, y_pred_svm))"
   ]
  },
  {
   "cell_type": "code",
   "execution_count": 237,
   "metadata": {},
   "outputs": [
    {
     "output_type": "stream",
     "name": "stdout",
     "text": [
      "[2 3 2 2 0 3 3 3 2 1 3 2 3 2 2 1 1 0 0 0 2 1 0 1 0 0 3 0 2 2 2 3 0 2 1 0 1\n 3 3 0 1 3 3 2 2 3 3 1 3 3 1 2 0 1 3 2 1 0 3 2 2 2 1 1 0 2 1 3 3 1 2 0 2 1\n 3 3 1 2 2 1 2 1 3 1 0 2 0 0 3 1 0 1 1 1 2 1 3 3 3 2 1 3 3 2 2 3 2 1 3 2 3\n 3 0 3 0 1 1 1 0 2 0 2 0 0 1 2 3 2 3 3]\n[2 3 2 2 0 3 1 3 2 1 3 2 3 2 2 1 1 0 0 0 2 1 0 1 0 0 3 0 2 2 2 1 0 2 1 0 1\n 3 3 0 1 3 3 2 2 3 3 1 3 3 1 2 0 1 3 2 1 0 3 2 2 2 1 1 0 2 1 3 1 1 2 0 2 1\n 3 3 1 2 2 1 2 1 3 1 0 2 0 0 1 1 0 3 1 1 2 1 3 3 3 2 1 3 3 2 2 3 2 1 3 2 3\n 3 0 3 0 1 1 1 0 2 0 2 0 0 1 2 3 2 3 3]\nacurracy:\n 0.9615384615384616\n              precision    recall  f1-score   support\n\n           0       1.00      1.00      1.00        25\n           1       0.97      0.89      0.93        35\n           2       1.00      1.00      1.00        36\n           3       0.89      0.97      0.93        34\n\n    accuracy                           0.96       130\n   macro avg       0.97      0.96      0.96       130\nweighted avg       0.96      0.96      0.96       130\n\n"
     ]
    }
   ],
   "source": [
    "from sklearn import datasets\n",
    "from sklearn.naive_bayes import MultinomialNB\n",
    "\n",
    "clf = MultinomialNB()\n",
    "model = clf.fit(X_balanced_train, y_balanced_train)\n",
    "pred_mb = model.predict(X_balanced_test)\n",
    "print(pred_mb)\n",
    "print(y_balaced_test)\n",
    "acc_mb = metrics.accuracy_score(pred_mb,y_balaced_test)\n",
    "print('acurracy:\\n', acc_mb)\n",
    "print(metrics.classification_report(y_balaced_test, pred_mb))\n"
   ]
  },
  {
   "cell_type": "code",
   "execution_count": 238,
   "metadata": {},
   "outputs": [
    {
     "output_type": "stream",
     "name": "stdout",
     "text": [
      "[2 3 2 2 0 3 1 3 2 1 3 2 3 2 2 1 3 0 0 0 2 1 0 1 0 0 3 0 2 2 2 3 0 2 1 0 1\n 3 3 0 1 3 3 2 2 3 3 1 3 3 1 2 0 1 3 2 1 0 3 2 2 2 1 1 0 2 1 3 3 1 2 0 2 1\n 3 3 1 2 2 1 2 1 3 1 0 2 0 0 3 1 0 3 1 1 2 1 3 3 3 2 1 3 3 2 2 3 2 1 3 2 3\n 3 0 3 0 1 1 1 0 2 0 2 0 0 1 2 3 2 3 3]\n[2 3 2 2 0 3 1 3 2 1 3 2 3 2 2 1 1 0 0 0 2 1 0 1 0 0 3 0 2 2 2 1 0 2 1 0 1\n 3 3 0 1 3 3 2 2 3 3 1 3 3 1 2 0 1 3 2 1 0 3 2 2 2 1 1 0 2 1 3 1 1 2 0 2 1\n 3 3 1 2 2 1 2 1 3 1 0 2 0 0 1 1 0 3 1 1 2 1 3 3 3 2 1 3 3 2 2 3 2 1 3 2 3\n 3 0 3 0 1 1 1 0 2 0 2 0 0 1 2 3 2 3 3]\nacurracy:\n 0.9692307692307692\n              precision    recall  f1-score   support\n\n           0       1.00      1.00      1.00        25\n           1       1.00      0.89      0.94        35\n           2       1.00      1.00      1.00        36\n           3       0.89      1.00      0.94        34\n\n    accuracy                           0.97       130\n   macro avg       0.97      0.97      0.97       130\nweighted avg       0.97      0.97      0.97       130\n\n"
     ]
    }
   ],
   "source": [
    "from sklearn.linear_model import LogisticRegression\n",
    "\n",
    "logistic_cLF = LogisticRegression(multi_class=\"multinomial\")\n",
    "logistic_model = logisticCLF.fit(X_balanced_train, y_balanced_train)\n",
    "pred_logistic = logistic_model.predict(X_balanced_test)\n",
    "print(pred_logistic)\n",
    "print(y_balaced_test)\n",
    "\n",
    "acc_logistic = metrics.accuracy_score(pred_logistic,y_balaced_test)\n",
    "print('acurracy:\\n', acc_logistic)\n",
    "print(metrics.classification_report(y_balaced_test, pred_logistic))"
   ]
  },
  {
   "cell_type": "code",
   "execution_count": 239,
   "metadata": {},
   "outputs": [
    {
     "output_type": "stream",
     "name": "stdout",
     "text": [
      "acurracy:\n 0.9861111111111112\n              precision    recall  f1-score   support\n\n           0       0.96      0.97      0.97       190\n           1       1.00      1.00      1.00        25\n           2       0.99      0.99      0.99       619\n           3       0.97      1.00      0.98        30\n\n    accuracy                           0.99       864\n   macro avg       0.98      0.99      0.99       864\nweighted avg       0.99      0.99      0.99       864\n\n"
     ]
    }
   ],
   "source": [
    "from sklearn.neural_network import MLPClassifier\n",
    "\n",
    "mlp_classifier = MLPClassifier(random_state=None, solver='lbfgs', activation='relu', hidden_layer_sizes=(10, 10), learning_rate='constant')\n",
    "model_mlp = mlp_classifier.fit(X_train, y_train)\n",
    "pred_mlp = model_mlp.predict(X_test)\n",
    "\n",
    "acc_mlp = metrics.accuracy_score(pred_mlp, y_test)\n",
    "print('acurracy:\\n', acc_mlp)\n",
    "\n",
    "print(metrics.classification_report(y_test, pred_mlp))"
   ]
  },
  {
   "cell_type": "code",
   "execution_count": 269,
   "metadata": {},
   "outputs": [
    {
     "output_type": "stream",
     "name": "stdout",
     "text": [
      "acurracy:\n 0.96875\n              precision    recall  f1-score   support\n\n           0       0.94      0.94      0.94       190\n           1       0.81      0.84      0.82        25\n           2       0.99      0.98      0.98       619\n           3       0.97      0.93      0.95        30\n\n    accuracy                           0.97       864\n   macro avg       0.92      0.92      0.92       864\nweighted avg       0.97      0.97      0.97       864\n\n"
     ]
    }
   ],
   "source": [
    "mlp_classifier = MLPClassifier(random_state=1, batch_size=100, solver='sgd', activation='relu', hidden_layer_sizes=(50, 50), learning_rate='adaptive', early_stopping=False, max_iter=500)\n",
    "model_mlp = mlp_classifier.fit(X_train, y_train)\n",
    "pred_mlp = model_mlp.predict(X_test)\n",
    "\n",
    "acc_mlp = metrics.accuracy_score(pred_mlp, y_test)\n",
    "print('acurracy:\\n', acc_mlp)\n",
    "\n",
    "print(metrics.classification_report(y_test, pred_mlp))"
   ]
  },
  {
   "cell_type": "code",
   "execution_count": null,
   "metadata": {},
   "outputs": [],
   "source": []
  }
 ],
 "metadata": {
  "kernelspec": {
   "display_name": "Python 3",
   "language": "python",
   "name": "python3"
  },
  "language_info": {
   "codemirror_mode": {
    "name": "ipython",
    "version": 3
   },
   "file_extension": ".py",
   "mimetype": "text/x-python",
   "name": "python",
   "nbconvert_exporter": "python",
   "pygments_lexer": "ipython3",
   "version": "3.6.9-final"
  }
 },
 "nbformat": 4,
 "nbformat_minor": 4
}