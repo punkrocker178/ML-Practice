{
 "cells": [
  {
   "cell_type": "code",
   "execution_count": 2,
   "metadata": {},
   "outputs": [
    {
     "name": "stdout",
     "output_type": "stream",
     "text": [
      "      vhigh vhigh.1  2   2.1  small   low  unacc\n",
      "1096    med     med  2     4    big  high  vgood\n",
      "1105    med     med  2  more    big  high  vgood\n",
      "1123    med     med  3     4    big  high  vgood\n",
      "1129    med     med  3  more    med  high  vgood\n",
      "1132    med     med  3  more    big  high  vgood\n",
      "...     ...     ... ..   ...    ...   ...    ...\n",
      "60    vhigh   vhigh  4     2    big   med  unacc\n",
      "61    vhigh   vhigh  4     2    big  high  unacc\n",
      "62    vhigh   vhigh  4     4  small   low  unacc\n",
      "63    vhigh   vhigh  4     4  small   med  unacc\n",
      "64    vhigh   vhigh  4     4  small  high  unacc\n",
      "\n",
      "[260 rows x 7 columns]\n"
     ]
    }
   ],
   "source": [
    "import pandas as pd\n",
    "import matplotlib as plt\n",
    "\n",
    "df = pd.read_csv(\"data/car.data\")\n",
    "\n",
    "\n",
    "balancedDF = pd.DataFrame()\n",
    "\n",
    "vgoodData = df[df.iloc[:,-1].str[:] == 'vgood']\n",
    "maxRows = len(vgoodData.values)\n",
    "\n",
    "goodData = df[df.iloc[:,-1].str[:] == 'good']\n",
    "accData = df[df.iloc[:,-1].str[:] == 'acc']\n",
    "unaccData = df[df.iloc[:,-1].str[:] == 'unacc']\n",
    "\n",
    "balancedDF = balancedDF.append(vgoodData)\n",
    "balancedDF = balancedDF.append(goodData.head(maxRows))\n",
    "balancedDF = balancedDF.append(accData.head(maxRows))\n",
    "balancedDF = balancedDF.append(unaccData.head(maxRows))\n",
    "\n",
    "print(balancedDF)"
   ]
  },
  {
   "cell_type": "code",
   "execution_count": 3,
   "metadata": {},
   "outputs": [],
   "source": [
    "data = pd.DataFrame()\n",
    "balanced_data = pd.DataFrame()\n",
    "columns = [\"buying\", \"maint\", \"doors\", \"persons\", \"lug_boot\", \"safety\", \"classify\"]\n",
    "for index, col in enumerate(columns):\n",
    "    if col != \"classify\":\n",
    "        data = pd.concat([data, pd.get_dummies(df.iloc[:,index], prefix=col)], axis=1)\n",
    "        balanced_data = pd.concat([balanced_data, pd.get_dummies(balancedDF.iloc[:,index], prefix=col)], axis=1)"
   ]
  },
  {
   "cell_type": "code",
   "execution_count": 30,
   "metadata": {},
   "outputs": [
    {
     "name": "stdout",
     "output_type": "stream",
     "text": [
      "X:\n",
      "[[0 0 0 ... 0 0 1]\n",
      " [0 0 0 ... 1 0 0]\n",
      " [0 0 0 ... 0 1 0]\n",
      " ...\n",
      " [0 1 0 ... 0 1 0]\n",
      " [0 1 0 ... 0 0 1]\n",
      " [0 1 0 ... 1 0 0]]\n",
      "\n",
      "Y:\n",
      "[[0 0 1 0]\n",
      " [0 0 1 0]\n",
      " [0 0 1 0]\n",
      " ...\n",
      " [0 0 1 0]\n",
      " [0 1 0 0]\n",
      " [0 0 0 1]]\n"
     ]
    }
   ],
   "source": [
    "from sklearn.preprocessing import LabelEncoder\n",
    "\n",
    "X = data.values\n",
    "X_balanced = balanced_data.values\n",
    "print(\"X:\")\n",
    "print(X)\n",
    "print()\n",
    "\n",
    "y_nominal = df.iloc[:,-1].values\n",
    "y_nominal_balanced = balancedDF.iloc[:,-1].values\n",
    "\n",
    "y = pd.get_dummies(y_nominal, prefix=\"classify\")\n",
    "y_balanced = pd.get_dummies(y_nominal_balanced, prefix=\"classify\")\n",
    "# print(y)\n",
    "# print(y_balance)\n",
    "\n",
    "y = y.values\n",
    "y_balanced = y_balanced.values\n",
    "\n",
    "LE = LabelEncoder()\n",
    "y_balanced_label_encoded = LE.fit_transform(y_nominal_balanced)\n",
    "\n",
    "print(\"Y:\")\n",
    "print(y)"
   ]
  },
  {
   "cell_type": "code",
   "execution_count": 5,
   "metadata": {},
   "outputs": [
    {
     "data": {
      "image/png": "[encoded data removed]",
      "text/plain": [
       "<Figure size 576x576 with 1 Axes>"
      ]
     },
     "metadata": {},
     "output_type": "display_data"
    }
   ],
   "source": [
    "# Categorize label\n",
    "        \n",
    "labelDF = pd.DataFrame({'labels': [len(unaccData.values), len(accData.values), len(goodData.values), len(vgoodData.values)]}, index=['unacc', 'acc', 'good', 'vgood'])\n",
    "plot = labelDF.plot.pie(y='labels', startangle=90, autopct='%1.1f%%', figsize=(8,8))\n"
   ]
  },
  {
   "cell_type": "code",
   "execution_count": 32,
   "metadata": {},
   "outputs": [],
   "source": [
    "import sklearn.model_selection as model_selection\n",
    "\n",
    "X_train, X_test, y_train, y_test = model_selection.train_test_split(X, y, test_size=0.5, train_size=0.5, random_state=4)\n",
    "# X_balanced_train, X_balanced_test, y_balanced_train, y_balaced_test = model_selection.train_test_split(X_balanced, y_balanced, test_size=0.5, train_size=0.5, random_state=4)\n",
    "\n",
    "X_balanced_train, X_balanced_test, y_balanced_train, y_balaced_test = model_selection.train_test_split(X_balanced, y_balanced_label_encoded, test_size=0.5, train_size=0.5, random_state=4)"
   ]
  },
  {
   "cell_type": "code",
   "execution_count": 16,
   "metadata": {},
   "outputs": [
    {
     "name": "stdout",
     "output_type": "stream",
     "text": [
      "K toi uu nhat: 5\n",
      "Accuracy: 0.8657407407407407\n"
     ]
    }
   ],
   "source": [
    "from sklearn.neighbors import KNeighborsClassifier \n",
    "from sklearn import metrics\n",
    "\n",
    "accuracy_list = []\n",
    "for num_neighbor in range(1, 51):\n",
    "    knn = KNeighborsClassifier(n_neighbors=num_neighbor, weights='distance', metric='euclidean')\n",
    "    knn.fit(X_train,y_train)\n",
    "\n",
    "    y_predict = knn.predict(X_test)\n",
    "\n",
    "    #Tinh do chinh xac\n",
    "    acc_score = metrics.accuracy_score(y_predict,y_test)\n",
    "    accuracy_list.append(acc_score)\n",
    "\n",
    "max_acc = accuracy_list[0]\n",
    "max_index = 0\n",
    "for index in range(0, len(accuracy_list)):\n",
    "    if accuracy_list[index] > max_acc:\n",
    "        max_acc = accuracy_list[index]\n",
    "        max_index = index + 1\n",
    "\n",
    "print(\"K toi uu nhat:\", max_index)\n",
    "print(\"Accuracy:\", max_acc)"
   ]
  },
  {
   "cell_type": "code",
   "execution_count": 35,
   "metadata": {},
   "outputs": [
    {
     "name": "stdout",
     "output_type": "stream",
     "text": [
      "predict:\n",
      " [2 3 2 2 0 3 1 3 2 1 3 2 3 2 2 1 1 0 0 0 2 1 0 1 0 0 3 0 2 2 2 1 0 2 1 0 1\n",
      " 3 3 0 1 3 3 2 2 3 3 1 3 3 1 2 0 1 3 2 1 0 3 2 2 2 1 1 0 2 1 3 3 1 2 0 2 1\n",
      " 3 3 1 2 2 1 2 1 3 1 0 2 0 0 1 1 0 3 1 1 2 1 3 3 3 2 1 3 3 2 2 3 2 1 3 2 3\n",
      " 3 0 3 0 1 1 1 0 2 0 2 0 0 1 2 3 2 3 3]\n",
      "y_true:\n",
      " [2 3 2 2 0 3 1 3 2 1 3 2 3 2 2 1 1 0 0 0 2 1 0 1 0 0 3 0 2 2 2 1 0 2 1 0 1\n",
      " 3 3 0 1 3 3 2 2 3 3 1 3 3 1 2 0 1 3 2 1 0 3 2 2 2 1 1 0 2 1 3 1 1 2 0 2 1\n",
      " 3 3 1 2 2 1 2 1 3 1 0 2 0 0 1 1 0 3 1 1 2 1 3 3 3 2 1 3 3 2 2 3 2 1 3 2 3\n",
      " 3 0 3 0 1 1 1 0 2 0 2 0 0 1 2 3 2 3 3]\n",
      "acurracy:\n",
      " 0.9923076923076923\n"
     ]
    }
   ],
   "source": [
    "from sklearn import svm\n",
    "\n",
    "svm_classifier = svm.SVC(kernel='rbf', gamma=0.01, C=100.)\n",
    "svm_classifier.fit(X_balanced_train, y_balanced_train)\n",
    "\n",
    "y_pred_svm = svm_classifier.predict(X_balanced_test)\n",
    "print('predict:\\n', y_pred_svm)\n",
    "print('y_true:\\n', y_balaced_test)\n",
    "\n",
    "acc_score_svm = metrics.accuracy_score(y_pred_svm,y_balaced_test)\n",
    "print('acurracy:\\n', acc_score_svm)"
   ]
  },
  {
   "cell_type": "code",
   "execution_count": null,
   "metadata": {},
   "outputs": [],
   "source": []
  }
 ],
 "metadata": {
  "kernelspec": {
   "display_name": "Python 3",
   "language": "python",
   "name": "python3"
  },
  "language_info": {
   "codemirror_mode": {
    "name": "ipython",
    "version": 3
   },
   "file_extension": ".py",
   "mimetype": "text/x-python",
   "name": "python",
   "nbconvert_exporter": "python",
   "pygments_lexer": "ipython3",
   "version": "3.8.5"
  }
 },
 "nbformat": 4,
 "nbformat_minor": 4
}
