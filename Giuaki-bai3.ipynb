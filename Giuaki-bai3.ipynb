{
 "cells": [
  {
   "cell_type": "code",
   "execution_count": 2,
   "metadata": {},
   "outputs": [],
   "source": [
    "import numpy as np\n",
    "import pandas as pd\n",
    "from sklearn.neural_network import MLPClassifier\n",
    "from sklearn.model_selection import train_test_split\n",
    "from sklearn import metrics\n"
   ]
  },
  {
   "cell_type": "code",
   "execution_count": 3,
   "metadata": {},
   "outputs": [
    {
     "data": {
      "text/html": [
       "<div>\n",
       "<style scoped>\n",
       "    .dataframe tbody tr th:only-of-type {\n",
       "        vertical-align: middle;\n",
       "    }\n",
       "\n",
       "    .dataframe tbody tr th {\n",
       "        vertical-align: top;\n",
       "    }\n",
       "\n",
       "    .dataframe thead th {\n",
       "        text-align: right;\n",
       "    }\n",
       "</style>\n",
       "<table border=\"1\" class=\"dataframe\">\n",
       "  <thead>\n",
       "    <tr style=\"text-align: right;\">\n",
       "      <th></th>\n",
       "      <th>fixed acidity</th>\n",
       "      <th>volatile acidity</th>\n",
       "      <th>citric acid</th>\n",
       "      <th>residual sugar</th>\n",
       "      <th>chlorides</th>\n",
       "      <th>free sulfur dioxide</th>\n",
       "      <th>total sulfur dioxide</th>\n",
       "      <th>density</th>\n",
       "      <th>pH</th>\n",
       "      <th>sulphates</th>\n",
       "      <th>alcohol</th>\n",
       "      <th>quality</th>\n",
       "    </tr>\n",
       "  </thead>\n",
       "  <tbody>\n",
       "    <tr>\n",
       "      <th>0</th>\n",
       "      <td>7.4</td>\n",
       "      <td>0.700</td>\n",
       "      <td>0.00</td>\n",
       "      <td>1.9</td>\n",
       "      <td>0.076</td>\n",
       "      <td>11.0</td>\n",
       "      <td>34.0</td>\n",
       "      <td>0.99780</td>\n",
       "      <td>3.51</td>\n",
       "      <td>0.56</td>\n",
       "      <td>9.4</td>\n",
       "      <td>5</td>\n",
       "    </tr>\n",
       "    <tr>\n",
       "      <th>1</th>\n",
       "      <td>7.8</td>\n",
       "      <td>0.880</td>\n",
       "      <td>0.00</td>\n",
       "      <td>2.6</td>\n",
       "      <td>0.098</td>\n",
       "      <td>25.0</td>\n",
       "      <td>67.0</td>\n",
       "      <td>0.99680</td>\n",
       "      <td>3.20</td>\n",
       "      <td>0.68</td>\n",
       "      <td>9.8</td>\n",
       "      <td>5</td>\n",
       "    </tr>\n",
       "    <tr>\n",
       "      <th>2</th>\n",
       "      <td>7.8</td>\n",
       "      <td>0.760</td>\n",
       "      <td>0.04</td>\n",
       "      <td>2.3</td>\n",
       "      <td>0.092</td>\n",
       "      <td>15.0</td>\n",
       "      <td>54.0</td>\n",
       "      <td>0.99700</td>\n",
       "      <td>3.26</td>\n",
       "      <td>0.65</td>\n",
       "      <td>9.8</td>\n",
       "      <td>5</td>\n",
       "    </tr>\n",
       "    <tr>\n",
       "      <th>3</th>\n",
       "      <td>11.2</td>\n",
       "      <td>0.280</td>\n",
       "      <td>0.56</td>\n",
       "      <td>1.9</td>\n",
       "      <td>0.075</td>\n",
       "      <td>17.0</td>\n",
       "      <td>60.0</td>\n",
       "      <td>0.99800</td>\n",
       "      <td>3.16</td>\n",
       "      <td>0.58</td>\n",
       "      <td>9.8</td>\n",
       "      <td>6</td>\n",
       "    </tr>\n",
       "    <tr>\n",
       "      <th>4</th>\n",
       "      <td>7.4</td>\n",
       "      <td>0.700</td>\n",
       "      <td>0.00</td>\n",
       "      <td>1.9</td>\n",
       "      <td>0.076</td>\n",
       "      <td>11.0</td>\n",
       "      <td>34.0</td>\n",
       "      <td>0.99780</td>\n",
       "      <td>3.51</td>\n",
       "      <td>0.56</td>\n",
       "      <td>9.4</td>\n",
       "      <td>5</td>\n",
       "    </tr>\n",
       "    <tr>\n",
       "      <th>...</th>\n",
       "      <td>...</td>\n",
       "      <td>...</td>\n",
       "      <td>...</td>\n",
       "      <td>...</td>\n",
       "      <td>...</td>\n",
       "      <td>...</td>\n",
       "      <td>...</td>\n",
       "      <td>...</td>\n",
       "      <td>...</td>\n",
       "      <td>...</td>\n",
       "      <td>...</td>\n",
       "      <td>...</td>\n",
       "    </tr>\n",
       "    <tr>\n",
       "      <th>1594</th>\n",
       "      <td>6.2</td>\n",
       "      <td>0.600</td>\n",
       "      <td>0.08</td>\n",
       "      <td>2.0</td>\n",
       "      <td>0.090</td>\n",
       "      <td>32.0</td>\n",
       "      <td>44.0</td>\n",
       "      <td>0.99490</td>\n",
       "      <td>3.45</td>\n",
       "      <td>0.58</td>\n",
       "      <td>10.5</td>\n",
       "      <td>5</td>\n",
       "    </tr>\n",
       "    <tr>\n",
       "      <th>1595</th>\n",
       "      <td>5.9</td>\n",
       "      <td>0.550</td>\n",
       "      <td>0.10</td>\n",
       "      <td>2.2</td>\n",
       "      <td>0.062</td>\n",
       "      <td>39.0</td>\n",
       "      <td>51.0</td>\n",
       "      <td>0.99512</td>\n",
       "      <td>3.52</td>\n",
       "      <td>0.76</td>\n",
       "      <td>11.2</td>\n",
       "      <td>6</td>\n",
       "    </tr>\n",
       "    <tr>\n",
       "      <th>1596</th>\n",
       "      <td>6.3</td>\n",
       "      <td>0.510</td>\n",
       "      <td>0.13</td>\n",
       "      <td>2.3</td>\n",
       "      <td>0.076</td>\n",
       "      <td>29.0</td>\n",
       "      <td>40.0</td>\n",
       "      <td>0.99574</td>\n",
       "      <td>3.42</td>\n",
       "      <td>0.75</td>\n",
       "      <td>11.0</td>\n",
       "      <td>6</td>\n",
       "    </tr>\n",
       "    <tr>\n",
       "      <th>1597</th>\n",
       "      <td>5.9</td>\n",
       "      <td>0.645</td>\n",
       "      <td>0.12</td>\n",
       "      <td>2.0</td>\n",
       "      <td>0.075</td>\n",
       "      <td>32.0</td>\n",
       "      <td>44.0</td>\n",
       "      <td>0.99547</td>\n",
       "      <td>3.57</td>\n",
       "      <td>0.71</td>\n",
       "      <td>10.2</td>\n",
       "      <td>5</td>\n",
       "    </tr>\n",
       "    <tr>\n",
       "      <th>1598</th>\n",
       "      <td>6.0</td>\n",
       "      <td>0.310</td>\n",
       "      <td>0.47</td>\n",
       "      <td>3.6</td>\n",
       "      <td>0.067</td>\n",
       "      <td>18.0</td>\n",
       "      <td>42.0</td>\n",
       "      <td>0.99549</td>\n",
       "      <td>3.39</td>\n",
       "      <td>0.66</td>\n",
       "      <td>11.0</td>\n",
       "      <td>6</td>\n",
       "    </tr>\n",
       "  </tbody>\n",
       "</table>\n",
       "<p>1599 rows × 12 columns</p>\n",
       "</div>"
      ],
      "text/plain": [
       "      fixed acidity  volatile acidity  citric acid  residual sugar  chlorides  \\\n",
       "0               7.4             0.700         0.00             1.9      0.076   \n",
       "1               7.8             0.880         0.00             2.6      0.098   \n",
       "2               7.8             0.760         0.04             2.3      0.092   \n",
       "3              11.2             0.280         0.56             1.9      0.075   \n",
       "4               7.4             0.700         0.00             1.9      0.076   \n",
       "...             ...               ...          ...             ...        ...   \n",
       "1594            6.2             0.600         0.08             2.0      0.090   \n",
       "1595            5.9             0.550         0.10             2.2      0.062   \n",
       "1596            6.3             0.510         0.13             2.3      0.076   \n",
       "1597            5.9             0.645         0.12             2.0      0.075   \n",
       "1598            6.0             0.310         0.47             3.6      0.067   \n",
       "\n",
       "      free sulfur dioxide  total sulfur dioxide  density    pH  sulphates  \\\n",
       "0                    11.0                  34.0  0.99780  3.51       0.56   \n",
       "1                    25.0                  67.0  0.99680  3.20       0.68   \n",
       "2                    15.0                  54.0  0.99700  3.26       0.65   \n",
       "3                    17.0                  60.0  0.99800  3.16       0.58   \n",
       "4                    11.0                  34.0  0.99780  3.51       0.56   \n",
       "...                   ...                   ...      ...   ...        ...   \n",
       "1594                 32.0                  44.0  0.99490  3.45       0.58   \n",
       "1595                 39.0                  51.0  0.99512  3.52       0.76   \n",
       "1596                 29.0                  40.0  0.99574  3.42       0.75   \n",
       "1597                 32.0                  44.0  0.99547  3.57       0.71   \n",
       "1598                 18.0                  42.0  0.99549  3.39       0.66   \n",
       "\n",
       "      alcohol  quality  \n",
       "0         9.4        5  \n",
       "1         9.8        5  \n",
       "2         9.8        5  \n",
       "3         9.8        6  \n",
       "4         9.4        5  \n",
       "...       ...      ...  \n",
       "1594     10.5        5  \n",
       "1595     11.2        6  \n",
       "1596     11.0        6  \n",
       "1597     10.2        5  \n",
       "1598     11.0        6  \n",
       "\n",
       "[1599 rows x 12 columns]"
      ]
     },
     "execution_count": 3,
     "metadata": {},
     "output_type": "execute_result"
    }
   ],
   "source": [
    "df = pd.read_csv(\"data/winequality-red.csv\")\n",
    "df\n"
   ]
  },
  {
   "cell_type": "code",
   "execution_count": 4,
   "metadata": {},
   "outputs": [
    {
     "name": "stdout",
     "output_type": "stream",
     "text": [
      "[[ 7.4    0.7    0.    ...  0.56   9.4    5.   ]\n",
      " [ 7.8    0.88   0.    ...  0.68   9.8    5.   ]\n",
      " [ 7.8    0.76   0.04  ...  0.65   9.8    5.   ]\n",
      " ...\n",
      " [ 6.3    0.51   0.13  ...  0.75  11.     6.   ]\n",
      " [ 5.9    0.645  0.12  ...  0.71  10.2    5.   ]\n",
      " [ 6.     0.31   0.47  ...  0.66  11.     6.   ]]\n",
      "[5. 5. 5. ... 6. 5. 6.]\n"
     ]
    }
   ],
   "source": [
    "data = df.values\n",
    "\n",
    "X = data[:,:-1]\n",
    "y = data[:,-1:].ravel()\n",
    "print(data)\n",
    "print(y)"
   ]
  },
  {
   "cell_type": "code",
   "execution_count": 5,
   "metadata": {},
   "outputs": [
    {
     "name": "stdout",
     "output_type": "stream",
     "text": [
      "[[0.24778761 0.39726027 0.         ... 0.60629921 0.13772455 0.15384615]\n",
      " [0.28318584 0.52054795 0.         ... 0.36220472 0.20958084 0.21538462]\n",
      " [0.28318584 0.43835616 0.04       ... 0.40944882 0.19161677 0.21538462]\n",
      " ...\n",
      " [0.15044248 0.26712329 0.13       ... 0.53543307 0.25149701 0.4       ]\n",
      " [0.11504425 0.35958904 0.12       ... 0.65354331 0.22754491 0.27692308]\n",
      " [0.12389381 0.13013699 0.47       ... 0.51181102 0.19760479 0.4       ]]\n"
     ]
    }
   ],
   "source": [
    "from sklearn.preprocessing import MinMaxScaler\n",
    "scaler = MinMaxScaler()\n",
    "scaler.fit(X)\n",
    "X = scaler.transform(X)\n",
    "print(X)"
   ]
  },
  {
   "cell_type": "code",
   "execution_count": 71,
   "metadata": {},
   "outputs": [
    {
     "name": "stdout",
     "output_type": "stream",
     "text": [
      "[0.4 0.4 0.4 ... 0.6 0.4 0.6]\n"
     ]
    }
   ],
   "source": [
    "# scaler = MinMaxScaler()\n",
    "# scaler.fit(y)\n",
    "# y = scaler.transform(y)\n",
    "# y = y.ravel()\n",
    "# print(y)"
   ]
  },
  {
   "cell_type": "code",
   "execution_count": 9,
   "metadata": {},
   "outputs": [
    {
     "name": "stderr",
     "output_type": "stream",
     "text": [
      "c:\\users\\steel\\appdata\\local\\programs\\python\\python38-32\\lib\\site-packages\\sklearn\\neural_network\\_multilayer_perceptron.py:582: ConvergenceWarning: Stochastic Optimizer: Maximum iterations (300) reached and the optimization hasn't converged yet.\n",
      "  warnings.warn(\n"
     ]
    },
    {
     "data": {
      "text/plain": [
       "MLPClassifier(activation='tanh', hidden_layer_sizes=(20, 30), max_iter=300,\n",
       "              random_state=1, solver='sgd')"
      ]
     },
     "execution_count": 9,
     "metadata": {},
     "output_type": "execute_result"
    }
   ],
   "source": [
    "X_train, X_test, y_train, y_test = train_test_split(X, y, test_size=0.2, random_state=4)\n",
    "neural_network = MLPClassifier(random_state=1,hidden_layer_sizes=(20,30), activation='tanh', solver='sgd', max_iter=300)\n",
    "neural_network.fit(X_train, y_train)"
   ]
  },
  {
   "cell_type": "code",
   "execution_count": 10,
   "metadata": {},
   "outputs": [
    {
     "name": "stdout",
     "output_type": "stream",
     "text": [
      "[5. 5. 6. 6. 5. 5. 5. 6. 5. 6. 6. 6. 5. 6. 6. 5. 5. 6. 5. 5. 5. 5. 5. 5.\n",
      " 6. 5. 6. 6. 5. 6. 5. 5. 6. 6. 5. 5. 6. 6. 6. 5. 6. 6. 6. 6. 6. 6. 6. 5.\n",
      " 5. 5. 5. 6. 5. 5. 6. 5. 6. 6. 6. 6. 5. 6. 6. 5. 5. 5. 6. 6. 5. 5. 6. 5.\n",
      " 6. 6. 5. 6. 5. 5. 5. 6. 6. 5. 5. 5. 6. 5. 6. 5. 6. 5. 6. 5. 5. 5. 6. 5.\n",
      " 5. 6. 6. 5. 5. 6. 5. 5. 5. 5. 6. 5. 5. 6. 5. 6. 5. 6. 6. 6. 6. 6. 6. 6.\n",
      " 6. 5. 5. 5. 6. 6. 6. 6. 6. 6. 5. 6. 5. 6. 6. 6. 5. 5. 6. 5. 6. 5. 6. 5.\n",
      " 6. 5. 7. 5. 6. 5. 6. 6. 5. 6. 5. 6. 5. 5. 5. 6. 6. 6. 6. 5. 5. 6. 5. 6.\n",
      " 5. 6. 5. 6. 5. 5. 6. 6. 6. 6. 5. 6. 5. 5. 6. 5. 6. 6. 5. 6. 6. 5. 6. 6.\n",
      " 6. 6. 6. 6. 6. 6. 6. 5. 5. 5. 5. 6. 6. 5. 5. 6. 6. 5. 6. 6. 5. 6. 5. 6.\n",
      " 5. 6. 6. 5. 5. 6. 6. 5. 5. 6. 5. 6. 6. 6. 5. 6. 6. 6. 5. 5. 5. 5. 5. 6.\n",
      " 6. 5. 6. 6. 5. 5. 5. 6. 5. 6. 5. 6. 5. 6. 6. 5. 5. 5. 5. 6. 5. 6. 5. 5.\n",
      " 5. 5. 5. 5. 5. 5. 5. 6. 6. 6. 5. 5. 6. 6. 6. 5. 5. 5. 5. 5. 5. 5. 5. 6.\n",
      " 5. 5. 6. 6. 6. 5. 5. 6. 5. 6. 5. 5. 6. 5. 5. 6. 6. 6. 5. 6. 6. 5. 6. 5.\n",
      " 6. 6. 5. 5. 6. 6. 6. 6.]\n",
      "[5. 5. 7. 8. 5. 4. 3. 5. 5. 5. 6. 7. 4. 5. 6. 6. 5. 6. 6. 4. 4. 5. 6. 6.\n",
      " 7. 6. 6. 6. 6. 6. 6. 6. 6. 6. 6. 5. 6. 6. 6. 5. 5. 6. 6. 6. 6. 6. 6. 7.\n",
      " 6. 5. 6. 4. 5. 5. 5. 5. 5. 6. 6. 6. 6. 6. 6. 5. 6. 6. 5. 6. 5. 5. 6. 6.\n",
      " 6. 6. 6. 5. 5. 5. 5. 7. 6. 5. 5. 5. 5. 5. 6. 5. 7. 5. 5. 6. 5. 5. 7. 5.\n",
      " 5. 6. 5. 5. 5. 7. 6. 5. 6. 5. 5. 5. 5. 6. 5. 5. 4. 6. 6. 6. 7. 7. 5. 5.\n",
      " 7. 6. 4. 5. 6. 7. 6. 6. 6. 5. 5. 5. 5. 5. 6. 5. 5. 5. 7. 6. 7. 6. 5. 5.\n",
      " 6. 5. 5. 6. 7. 5. 6. 5. 6. 8. 6. 6. 5. 5. 5. 6. 7. 4. 7. 5. 5. 7. 6. 5.\n",
      " 5. 6. 5. 5. 5. 5. 5. 5. 7. 7. 5. 7. 6. 5. 7. 5. 7. 4. 5. 7. 6. 5. 6. 5.\n",
      " 5. 6. 7. 6. 6. 6. 6. 6. 6. 6. 5. 7. 6. 5. 5. 6. 7. 5. 5. 5. 7. 3. 5. 6.\n",
      " 5. 6. 7. 5. 6. 6. 7. 5. 5. 5. 5. 6. 5. 5. 5. 7. 6. 5. 6. 5. 5. 5. 5. 7.\n",
      " 5. 5. 6. 7. 5. 5. 5. 7. 5. 6. 5. 5. 5. 5. 6. 6. 5. 5. 6. 6. 5. 5. 5. 5.\n",
      " 6. 5. 6. 6. 5. 5. 6. 6. 7. 6. 5. 5. 6. 6. 7. 6. 5. 5. 5. 5. 5. 5. 6. 6.\n",
      " 5. 6. 5. 6. 7. 6. 5. 7. 5. 6. 5. 6. 7. 4. 5. 6. 6. 5. 5. 6. 5. 5. 7. 5.\n",
      " 6. 6. 5. 5. 7. 6. 4. 6.]\n"
     ]
    }
   ],
   "source": [
    "y_pred = neural_network.predict(X_test)\n",
    "print(y_pred)\n",
    "print(y_test)"
   ]
  },
  {
   "cell_type": "code",
   "execution_count": 11,
   "metadata": {},
   "outputs": [
    {
     "name": "stdout",
     "output_type": "stream",
     "text": [
      "acurracy:\n",
      " 0.5625\n"
     ]
    }
   ],
   "source": [
    "acc_score = metrics.accuracy_score(y_pred,y_test)\n",
    "print('acurracy:\\n', acc_score)"
   ]
  },
  {
   "cell_type": "code",
   "execution_count": null,
   "metadata": {},
   "outputs": [],
   "source": []
  }
 ],
 "metadata": {
  "kernelspec": {
   "display_name": "Python 3",
   "language": "python",
   "name": "python3"
  },
  "language_info": {
   "codemirror_mode": {
    "name": "ipython",
    "version": 3
   },
   "file_extension": ".py",
   "mimetype": "text/x-python",
   "name": "python",
   "nbconvert_exporter": "python",
   "pygments_lexer": "ipython3",
   "version": "3.8.5"
  }
 },
 "nbformat": 4,
 "nbformat_minor": 4
}
