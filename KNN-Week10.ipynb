{
 "cells": [
  {
   "cell_type": "code",
   "execution_count": 12,
   "metadata": {},
   "outputs": [
    {
     "name": "stdout",
     "output_type": "stream",
     "text": [
      "[[158  58]\n",
      " [158  60]\n",
      " [160  59]\n",
      " [162  61]\n",
      " [163  64]\n",
      " [165  62]\n",
      " [165  62]\n",
      " [165  65]\n",
      " [170  64]]\n",
      "['M' 'M' 'M' 'M' 'L' 'L' 'L' 'L']\n",
      "[158  58]\n"
     ]
    }
   ],
   "source": [
    "import numpy as np\n",
    "\n",
    "X = np.array([\n",
    "    [158,58],\n",
    "    [158,60],\n",
    "    [160,59],\n",
    "    [162,61],\n",
    "    [163,64],\n",
    "    [165,62],\n",
    "    [165,62],\n",
    "    [165,65],\n",
    "    [170,64]\n",
    "])\n",
    "\n",
    "print(X)\n",
    "\n",
    "Y = np.array(['M', 'M', 'M', 'M', 'L', 'L', 'L', 'L'])\n",
    "print(Y)\n",
    "z = list(zip(X,Y))\n",
    "print(z[0][0])"
   ]
  },
  {
   "cell_type": "code",
   "execution_count": 13,
   "metadata": {},
   "outputs": [
    {
     "name": "stdout",
     "output_type": "stream",
     "text": [
      "[(array([158,  58]), 'M', 3.605551275463989), (array([158,  60]), 'M', 2.23606797749979), (array([160,  59]), 'M', 2.0), (array([162,  61]), 'M', 2.0), (array([163,  64]), 'L', 4.242640687119285), (array([165,  62]), 'L', 5.0990195135927845), (array([165,  62]), 'L', 5.0990195135927845), (array([165,  65]), 'L', 6.4031242374328485)]\n"
     ]
    }
   ],
   "source": [
    "x1 = [160,61]\n",
    "a = np.array(x1)\n",
    "for i in range(len(z)):\n",
    "    b = np.array(z[i][0])\n",
    "    dist = np.linalg.norm(a-b)\n",
    "    z[i] = z[i] + (dist,)\n",
    "print(z)\n",
    "# z.sort(key=lambda x:x[2])\n"
   ]
  },
  {
   "cell_type": "code",
   "execution_count": 16,
   "metadata": {},
   "outputs": [
    {
     "name": "stdout",
     "output_type": "stream",
     "text": [
      "[['vhigh' 'vhigh' '2' ... 'small' 'med' 'unacc']\n",
      " ['vhigh' 'vhigh' '2' ... 'small' 'high' 'unacc']\n",
      " ['vhigh' 'vhigh' '2' ... 'med' 'low' 'unacc']\n",
      " ...\n",
      " ['low' 'low' '5more' ... 'big' 'low' 'unacc']\n",
      " ['low' 'low' '5more' ... 'big' 'med' 'good']\n",
      " ['low' 'low' '5more' ... 'big' 'high' 'vgood']]\n"
     ]
    }
   ],
   "source": []
  },
  {
   "cell_type": "code",
   "execution_count": null,
   "metadata": {},
   "outputs": [],
   "source": []
  }
 ],
 "metadata": {
  "kernelspec": {
   "display_name": "Python 3",
   "language": "python",
   "name": "python3"
  },
  "language_info": {
   "codemirror_mode": {
    "name": "ipython",
    "version": 3
   },
   "file_extension": ".py",
   "mimetype": "text/x-python",
   "name": "python",
   "nbconvert_exporter": "python",
   "pygments_lexer": "ipython3",
   "version": "3.8.5"
  }
 },
 "nbformat": 4,
 "nbformat_minor": 4
}
