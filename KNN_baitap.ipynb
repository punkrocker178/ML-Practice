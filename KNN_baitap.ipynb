{
 "cells": [
  {
   "cell_type": "code",
   "execution_count": 2,
   "metadata": {},
   "outputs": [
    {
     "output_type": "execute_result",
     "data": {
      "text/plain": [
       "      vhigh vhigh.1      2   2.1  small   low  unacc\n",
       "0     vhigh   vhigh      2     2  small   med  unacc\n",
       "1     vhigh   vhigh      2     2  small  high  unacc\n",
       "2     vhigh   vhigh      2     2    med   low  unacc\n",
       "3     vhigh   vhigh      2     2    med   med  unacc\n",
       "4     vhigh   vhigh      2     2    med  high  unacc\n",
       "...     ...     ...    ...   ...    ...   ...    ...\n",
       "1722    low     low  5more  more    med   med   good\n",
       "1723    low     low  5more  more    med  high  vgood\n",
       "1724    low     low  5more  more    big   low  unacc\n",
       "1725    low     low  5more  more    big   med   good\n",
       "1726    low     low  5more  more    big  high  vgood\n",
       "\n",
       "[1727 rows x 7 columns]"
      ],
      "text/html": "<div>\n<style scoped>\n    .dataframe tbody tr th:only-of-type {\n        vertical-align: middle;\n    }\n\n    .dataframe tbody tr th {\n        vertical-align: top;\n    }\n\n    .dataframe thead th {\n        text-align: right;\n    }\n</style>\n<table border=\"1\" class=\"dataframe\">\n  <thead>\n    <tr style=\"text-align: right;\">\n      <th></th>\n      <th>vhigh</th>\n      <th>vhigh.1</th>\n      <th>2</th>\n      <th>2.1</th>\n      <th>small</th>\n      <th>low</th>\n      <th>unacc</th>\n    </tr>\n  </thead>\n  <tbody>\n    <tr>\n      <th>0</th>\n      <td>vhigh</td>\n      <td>vhigh</td>\n      <td>2</td>\n      <td>2</td>\n      <td>small</td>\n      <td>med</td>\n      <td>unacc</td>\n    </tr>\n    <tr>\n      <th>1</th>\n      <td>vhigh</td>\n      <td>vhigh</td>\n      <td>2</td>\n      <td>2</td>\n      <td>small</td>\n      <td>high</td>\n      <td>unacc</td>\n    </tr>\n    <tr>\n      <th>2</th>\n      <td>vhigh</td>\n      <td>vhigh</td>\n      <td>2</td>\n      <td>2</td>\n      <td>med</td>\n      <td>low</td>\n      <td>unacc</td>\n    </tr>\n    <tr>\n      <th>3</th>\n      <td>vhigh</td>\n      <td>vhigh</td>\n      <td>2</td>\n      <td>2</td>\n      <td>med</td>\n      <td>med</td>\n      <td>unacc</td>\n    </tr>\n    <tr>\n      <th>4</th>\n      <td>vhigh</td>\n      <td>vhigh</td>\n      <td>2</td>\n      <td>2</td>\n      <td>med</td>\n      <td>high</td>\n      <td>unacc</td>\n    </tr>\n    <tr>\n      <th>...</th>\n      <td>...</td>\n      <td>...</td>\n      <td>...</td>\n      <td>...</td>\n      <td>...</td>\n      <td>...</td>\n      <td>...</td>\n    </tr>\n    <tr>\n      <th>1722</th>\n      <td>low</td>\n      <td>low</td>\n      <td>5more</td>\n      <td>more</td>\n      <td>med</td>\n      <td>med</td>\n      <td>good</td>\n    </tr>\n    <tr>\n      <th>1723</th>\n      <td>low</td>\n      <td>low</td>\n      <td>5more</td>\n      <td>more</td>\n      <td>med</td>\n      <td>high</td>\n      <td>vgood</td>\n    </tr>\n    <tr>\n      <th>1724</th>\n      <td>low</td>\n      <td>low</td>\n      <td>5more</td>\n      <td>more</td>\n      <td>big</td>\n      <td>low</td>\n      <td>unacc</td>\n    </tr>\n    <tr>\n      <th>1725</th>\n      <td>low</td>\n      <td>low</td>\n      <td>5more</td>\n      <td>more</td>\n      <td>big</td>\n      <td>med</td>\n      <td>good</td>\n    </tr>\n    <tr>\n      <th>1726</th>\n      <td>low</td>\n      <td>low</td>\n      <td>5more</td>\n      <td>more</td>\n      <td>big</td>\n      <td>high</td>\n      <td>vgood</td>\n    </tr>\n  </tbody>\n</table>\n<p>1727 rows × 7 columns</p>\n</div>"
     },
     "metadata": {},
     "execution_count": 2
    }
   ],
   "source": [
    "import pandas as pd\n",
    "\n",
    "df = pd.read_csv(\"data/car.data\")\n",
    "df"
   ]
  },
  {
   "cell_type": "code",
   "execution_count": 18,
   "metadata": {},
   "outputs": [
    {
     "output_type": "stream",
     "name": "stdout",
     "text": [
      "      buying_high  buying_low  buying_med  buying_vhigh  maint_high  \\\n0               0           0           0             1           0   \n1               0           0           0             1           0   \n2               0           0           0             1           0   \n3               0           0           0             1           0   \n4               0           0           0             1           0   \n...           ...         ...         ...           ...         ...   \n1722            0           1           0             0           0   \n1723            0           1           0             0           0   \n1724            0           1           0             0           0   \n1725            0           1           0             0           0   \n1726            0           1           0             0           0   \n\n      maint_low  maint_med  maint_vhigh  doors_2  doors_3  ...  doors_5more  \\\n0             0          0            1        1        0  ...            0   \n1             0          0            1        1        0  ...            0   \n2             0          0            1        1        0  ...            0   \n3             0          0            1        1        0  ...            0   \n4             0          0            1        1        0  ...            0   \n...         ...        ...          ...      ...      ...  ...          ...   \n1722          1          0            0        0        0  ...            1   \n1723          1          0            0        0        0  ...            1   \n1724          1          0            0        0        0  ...            1   \n1725          1          0            0        0        0  ...            1   \n1726          1          0            0        0        0  ...            1   \n\n      persons_2  persons_4  persons_more  lug_boot_big  lug_boot_med  \\\n0             1          0             0             0             0   \n1             1          0             0             0             0   \n2             1          0             0             0             1   \n3             1          0             0             0             1   \n4             1          0             0             0             1   \n...         ...        ...           ...           ...           ...   \n1722          0          0             1             0             1   \n1723          0          0             1             0             1   \n1724          0          0             1             1             0   \n1725          0          0             1             1             0   \n1726          0          0             1             1             0   \n\n      lug_boot_small  safety_high  safety_low  safety_med  \n0                  1            0           0           1  \n1                  1            1           0           0  \n2                  0            0           1           0  \n3                  0            0           0           1  \n4                  0            1           0           0  \n...              ...          ...         ...         ...  \n1722               0            0           0           1  \n1723               0            1           0           0  \n1724               0            0           1           0  \n1725               0            0           0           1  \n1726               0            1           0           0  \n\n[1727 rows x 21 columns]\n[[0 0 0 ... 0 0 1]\n [0 0 0 ... 1 0 0]\n [0 0 0 ... 0 1 0]\n ...\n [0 1 0 ... 0 1 0]\n [0 1 0 ... 0 0 1]\n [0 1 0 ... 1 0 0]]\n"
     ]
    }
   ],
   "source": [
    "from sklearn.preprocessing import LabelBinarizer\n",
    "\n",
    "# Xu li nominal datax\n",
    "data = pd.DataFrame()\n",
    "columns = [\"buying\", \"maint\", \"doors\", \"persons\", \"lug_boot\", \"safety\", \"classify\"]\n",
    "for index, col in enumerate(columns):\n",
    "    if col != \"classify\":\n",
    "        data = pd.concat([data, pd.get_dummies(df.iloc[:,index], prefix=col)], axis=1)\n",
    "\n",
    "print(data)\n",
    "\n",
    "X = data.values\n",
    "print(X)\n"
   ]
  },
  {
   "cell_type": "code",
   "execution_count": 17,
   "metadata": {},
   "outputs": [
    {
     "output_type": "stream",
     "name": "stdout",
     "text": [
      "      classify_acc  classify_good  classify_unacc  classify_vgood\n0                0              0               1               0\n1                0              0               1               0\n2                0              0               1               0\n3                0              0               1               0\n4                0              0               1               0\n...            ...            ...             ...             ...\n1722             0              1               0               0\n1723             0              0               0               1\n1724             0              0               1               0\n1725             0              1               0               0\n1726             0              0               0               1\n\n[1727 rows x 4 columns]\n[[0 0 1 0]\n [0 0 1 0]\n [0 0 1 0]\n ...\n [0 0 1 0]\n [0 1 0 0]\n [0 0 0 1]]\n"
     ]
    }
   ],
   "source": [
    "y_nominal = df.iloc[:,-1].values\n",
    "y = pd.get_dummies(y_nominal, prefix=\"classify\")\n",
    "print(y)\n",
    "\n",
    "y = y.values\n",
    "print(y)"
   ]
  },
  {
   "cell_type": "code",
   "execution_count": 26,
   "metadata": {},
   "outputs": [
    {
     "output_type": "stream",
     "name": "stdout",
     "text": [
      "[[0 0 0 ... 0 1 0]\n [1 0 0 ... 0 0 1]\n [1 0 0 ... 0 1 0]\n ...\n [1 0 0 ... 0 1 0]\n [0 0 1 ... 0 1 0]\n [0 0 0 ... 0 0 1]]\n"
     ]
    }
   ],
   "source": [
    "import sklearn.model_selection as model_selection\n",
    "\n",
    "X_train, X_test, y_train, y_test = model_selection.train_test_split(X, y, test_size=0.5, train_size=0.5, random_state=4)"
   ]
  },
  {
   "cell_type": "code",
   "execution_count": 41,
   "metadata": {},
   "outputs": [
    {
     "output_type": "stream",
     "name": "stdout",
     "text": [
      "K toi uu nhat: 5\n"
     ]
    }
   ],
   "source": [
    "from sklearn.neighbors import KNeighborsClassifier \n",
    "from sklearn import metrics\n",
    "\n",
    "accuracy_list = []\n",
    "for num_neighbor in range(1, 51):\n",
    "    knn = KNeighborsClassifier(n_neighbors=num_neighbor, weights='distance', metric='euclidean')\n",
    "    knn.fit(X_train,y_train)\n",
    "\n",
    "    y_predict = knn.predict(X_test)\n",
    "\n",
    "    #Tinh do chinh xac\n",
    "    acc_score = metrics.accuracy_score(y_predict,y_test)\n",
    "    accuracy_list.append(acc_score)\n",
    "\n",
    "max_acc = accuracy_list[0]\n",
    "max_index = 0\n",
    "for index in range(0, len(accuracy_list)):\n",
    "    if accuracy_list[index] > max_acc:\n",
    "        max_acc = accuracy_list[index]\n",
    "        max_index = index + 1\n",
    "\n",
    "print(\"K toi uu nhat:\", max_index)"
   ]
  },
  {
   "cell_type": "code",
   "execution_count": null,
   "metadata": {},
   "outputs": [],
   "source": []
  }
 ],
 "metadata": {
  "kernelspec": {
   "display_name": "Python 3",
   "language": "python",
   "name": "python3"
  },
  "language_info": {
   "codemirror_mode": {
    "name": "ipython",
    "version": 3
   },
   "file_extension": ".py",
   "mimetype": "text/x-python",
   "name": "python",
   "nbconvert_exporter": "python",
   "pygments_lexer": "ipython3",
   "version": "3.6.9-final"
  }
 },
 "nbformat": 4,
 "nbformat_minor": 4
}