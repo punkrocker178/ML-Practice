{
 "cells": [
  {
   "cell_type": "code",
   "execution_count": 31,
   "metadata": {},
   "outputs": [],
   "source": [
    "import pandas as pd\n",
    "import numpy as np\n",
    "from sklearn.linear_model import LinearRegression\n",
    "from sklearn import metrics\n"
   ]
  },
  {
   "cell_type": "code",
   "execution_count": 15,
   "metadata": {},
   "outputs": [
    {
     "name": "stdout",
     "output_type": "stream",
     "text": [
      "        Id  MSSubClass  LotFrontage  LotArea  OverallQual  OverallCond  \\\n",
      "0        1          60         65.0     8450            7            5   \n",
      "1        2          20         80.0     9600            6            8   \n",
      "2        3          60         68.0    11250            7            5   \n",
      "3        4          70         60.0     9550            7            5   \n",
      "4        5          60         84.0    14260            8            5   \n",
      "...    ...         ...          ...      ...          ...          ...   \n",
      "1455  1456          60         62.0     7917            6            5   \n",
      "1456  1457          20         85.0    13175            6            6   \n",
      "1457  1458          70         66.0     9042            7            9   \n",
      "1458  1459          20         68.0     9717            5            6   \n",
      "1459  1460          20         75.0     9937            5            6   \n",
      "\n",
      "      YearBuilt  YearRemodAdd  MasVnrArea  BsmtFinSF1  ...  WoodDeckSF  \\\n",
      "0          2003          2003       196.0         706  ...           0   \n",
      "1          1976          1976         0.0         978  ...         298   \n",
      "2          2001          2002       162.0         486  ...           0   \n",
      "3          1915          1970         0.0         216  ...           0   \n",
      "4          2000          2000       350.0         655  ...         192   \n",
      "...         ...           ...         ...         ...  ...         ...   \n",
      "1455       1999          2000         0.0           0  ...           0   \n",
      "1456       1978          1988       119.0         790  ...         349   \n",
      "1457       1941          2006         0.0         275  ...           0   \n",
      "1458       1950          1996         0.0          49  ...         366   \n",
      "1459       1965          1965         0.0         830  ...         736   \n",
      "\n",
      "      OpenPorchSF  EnclosedPorch  3SsnPorch  ScreenPorch  PoolArea  MiscVal  \\\n",
      "0              61              0          0            0         0        0   \n",
      "1               0              0          0            0         0        0   \n",
      "2              42              0          0            0         0        0   \n",
      "3              35            272          0            0         0        0   \n",
      "4              84              0          0            0         0        0   \n",
      "...           ...            ...        ...          ...       ...      ...   \n",
      "1455           40              0          0            0         0        0   \n",
      "1456            0              0          0            0         0        0   \n",
      "1457           60              0          0            0         0     2500   \n",
      "1458            0            112          0            0         0        0   \n",
      "1459           68              0          0            0         0        0   \n",
      "\n",
      "      MoSold  YrSold  SalePrice  \n",
      "0          2    2008     208500  \n",
      "1          5    2007     181500  \n",
      "2          9    2008     223500  \n",
      "3          2    2006     140000  \n",
      "4         12    2008     250000  \n",
      "...      ...     ...        ...  \n",
      "1455       8    2007     175000  \n",
      "1456       2    2010     210000  \n",
      "1457       5    2010     266500  \n",
      "1458       4    2010     142125  \n",
      "1459       6    2008     147500  \n",
      "\n",
      "[1460 rows x 38 columns]\n"
     ]
    }
   ],
   "source": [
    "df = pd.read_csv('data/house_train.csv')\n",
    "data = df.select_dtypes(include=['float64', 'int64'])\n",
    "print(data)"
   ]
  },
  {
   "cell_type": "code",
   "execution_count": 14,
   "metadata": {},
   "outputs": [
    {
     "name": "stdout",
     "output_type": "stream",
     "text": [
      "['LotArea', 'MasVnrArea', 'GrLivArea', 'GarageArea', 'PoolArea']\n"
     ]
    }
   ],
   "source": [
    "list_heads = df.columns.tolist()\n",
    "selected_heads = [x for x in list_heads if 'Area' in x]\n",
    "print(selected_heads)"
   ]
  },
  {
   "cell_type": "code",
   "execution_count": 16,
   "metadata": {},
   "outputs": [
    {
     "name": "stdout",
     "output_type": "stream",
     "text": [
      "      LotArea  MasVnrArea  GrLivArea  GarageArea  PoolArea\n",
      "0        8450       196.0       1710         548         0\n",
      "1        9600         0.0       1262         460         0\n",
      "2       11250       162.0       1786         608         0\n",
      "3        9550         0.0       1717         642         0\n",
      "4       14260       350.0       2198         836         0\n",
      "...       ...         ...        ...         ...       ...\n",
      "1455     7917         0.0       1647         460         0\n",
      "1456    13175       119.0       2073         500         0\n",
      "1457     9042         0.0       2340         252         0\n",
      "1458     9717         0.0       1078         240         0\n",
      "1459     9937         0.0       1256         276         0\n",
      "\n",
      "[1460 rows x 5 columns]\n"
     ]
    }
   ],
   "source": [
    "new_data = data[selected_heads]\n",
    "print(new_data)"
   ]
  },
  {
   "cell_type": "code",
   "execution_count": 13,
   "metadata": {},
   "outputs": [
    {
     "name": "stdout",
     "output_type": "stream",
     "text": [
      "[[0.0334198  0.1225     0.25923135 0.3864598  0.        ]\n",
      " [0.03879502 0.         0.17483044 0.32440056 0.        ]\n",
      " [0.04650728 0.10125    0.27354936 0.42877292 0.        ]\n",
      " ...\n",
      " [0.03618687 0.         0.37792012 0.17771509 0.        ]\n",
      " [0.03934189 0.         0.14016579 0.16925247 0.        ]\n",
      " [0.04037019 0.         0.17370008 0.19464034 0.        ]]\n"
     ]
    }
   ],
   "source": [
    "from sklearn.preprocessing import MinMaxScaler\n",
    "scaler = MinMaxScaler()\n",
    "scaler.fit(new_data)\n",
    "new_data = scaler.transform(new_data)\n",
    "print(new_data)"
   ]
  },
  {
   "cell_type": "code",
   "execution_count": 25,
   "metadata": {},
   "outputs": [
    {
     "name": "stdout",
     "output_type": "stream",
     "text": [
      "   LotArea  MasVnrArea  GrLivArea  GarageArea  PoolArea\n",
      "0     8450       196.0       1710         548         0\n",
      "1     9600         0.0       1262         460         0\n",
      "2    11250       162.0       1786         608         0\n",
      "    LotArea  MasVnrArea  GrLivArea  GarageArea  PoolArea\n",
      "51     6240         0.0       1176         528         0\n",
      "52     8472         0.0        816         516         0\n",
      "53    50271         0.0       1842         894         0\n",
      "54     7134         0.0       1360         572         0\n",
      "55    10175       272.0       1425         576         0\n",
      "56     2645       456.0       1739         480         0\n",
      "57    11645         0.0       1720         565         0\n",
      "58    13682      1031.0       2945         641         0\n",
      "59     7200         0.0        780         352         0\n",
      "60    13072         0.0       1158         576         0\n",
      "      SalePrice\n",
      "0        208500\n",
      "1        181500\n",
      "2        223500\n",
      "3        140000\n",
      "4        250000\n",
      "...         ...\n",
      "1455     175000\n",
      "1456     210000\n",
      "1457     266500\n",
      "1458     142125\n",
      "1459     147500\n",
      "\n",
      "[1460 rows x 1 columns]\n"
     ]
    }
   ],
   "source": [
    "X_train = new_data[:50]\n",
    "X_test = new_data[51:61]\n",
    "y = df[['SalePrice']]\n",
    "print(X_train[:3])\n",
    "print(X_test)\n",
    "print(y)"
   ]
  },
  {
   "cell_type": "code",
   "execution_count": 27,
   "metadata": {},
   "outputs": [
    {
     "name": "stdout",
     "output_type": "stream",
     "text": [
      "[0.24107763 0.20358284 0.26190807 0.14595195 0.29870851 0.15011804\n",
      " 0.37786419 0.22927371 0.13192612 0.11540064 0.13137064 0.43063463\n",
      " 0.15150674 0.33967505 0.16955978 0.13484238 0.15845022 0.07651715\n",
      " 0.17233718 0.14456326 0.40327732 0.14511873 0.27093459 0.13192612\n",
      " 0.1653937  0.3074573  0.13873073 0.37647549 0.23968893 0.04666019\n",
      " 0.00708235 0.15893626 0.20136092 0.1813637  0.33689765 0.38064158\n",
      " 0.15289543 0.164005   0.10290237 0.06540758 0.17372587 0.18761283\n",
      " 0.15150674 0.13241216 0.14734065 0.39577836 0.2843855  0.2982919\n",
      " 0.10845716 0.1278989 ]\n",
      "[0.1105402  0.10429107 0.48618247 0.13206499 0.20219414 0.19108457\n",
      " 0.22441328 0.56086655 0.12498264 0.17094848]\n"
     ]
    }
   ],
   "source": [
    "scalerY = MinMaxScaler()\n",
    "scalerY.fit(y)\n",
    "y = scalerY.transform(y)\n",
    "y = y.ravel()\n",
    "y_train = y[:50]\n",
    "y_test = y[51:61]\n",
    "print(y_train)\n",
    "print(y_test)"
   ]
  },
  {
   "cell_type": "code",
   "execution_count": 43,
   "metadata": {},
   "outputs": [
    {
     "name": "stdout",
     "output_type": "stream",
     "text": [
      "[0.16434254 0.1296591  0.38112744 0.19248395 0.23849348 0.26185374\n",
      " 0.23712855 0.50390867 0.09560368 0.18401168]\n",
      "[0.1105402  0.10429107 0.48618247 0.13206499 0.20219414 0.19108457\n",
      " 0.22441328 0.56086655 0.12498264 0.17094848]\n",
      "\n",
      "Compare prices:\n",
      "[153243.06136791 128267.51881495 309349.86974866 173507.69062669\n",
      " 206639.15289472 223460.87677178 205656.26590605 397764.63000453\n",
      " 103744.21284905 167406.80749206]\n",
      "[114500 110000 385000 130000 180500 172500 196500 438780 124900]\n"
     ]
    }
   ],
   "source": [
    "model = LinearRegression()\n",
    "model.fit(X_train, y_train)\n",
    "\n",
    "y_pred = model.predict(X_test)\n",
    "print(y_pred)\n",
    "print(y_test)\n",
    "\n",
    "y_predl = [[x] for x in y_pred]\n",
    "y_price_predicted = scalerY.inverse_transform(y_predl)\n",
    "\n",
    "print(\"\\nCompare prices:\")\n",
    "print(y_price_predicted.ravel())\n"
   ]
  },
  {
   "cell_type": "code",
   "execution_count": 45,
   "metadata": {},
   "outputs": [
    {
     "name": "stdout",
     "output_type": "stream",
     "text": [
      "[[36987.6278034]]\n"
     ]
    }
   ],
   "source": [
    "y_data = df[['SalePrice']][51:61].values.ravel()\n",
    "y_predict = y_price_predicted.ravel()\n",
    "sum = 0\n",
    "for i in range(0, len(y_test)):\n",
    "    sum += (y_pred[i] - y_test[i])**2\n",
    "\n",
    "MSE = sum/len(y_test)\n",
    "print(scalerY.inverse_transform([[MSE]]))\n",
    "    "
   ]
  },
  {
   "cell_type": "code",
   "execution_count": 47,
   "metadata": {},
   "outputs": [
    {
     "name": "stdout",
     "output_type": "stream",
     "text": [
      "0.002899080410224461\n",
      "[[36987.6278034]]\n"
     ]
    }
   ],
   "source": [
    "from sklearn.metrics import mean_squared_error\n",
    "from math import sqrt\n",
    "\n",
    "MSE1 = mean_squared_error(y_test, y_pred)\n",
    "print(MSE1)\n",
    "print(scalerY.inverse_transform([[MSE1]]))"
   ]
  },
  {
   "cell_type": "code",
   "execution_count": null,
   "metadata": {},
   "outputs": [],
   "source": []
  }
 ],
 "metadata": {
  "kernelspec": {
   "display_name": "Python 3",
   "language": "python",
   "name": "python3"
  },
  "language_info": {
   "codemirror_mode": {
    "name": "ipython",
    "version": 3
   },
   "file_extension": ".py",
   "mimetype": "text/x-python",
   "name": "python",
   "nbconvert_exporter": "python",
   "pygments_lexer": "ipython3",
   "version": "3.8.5"
  }
 },
 "nbformat": 4,
 "nbformat_minor": 4
}
