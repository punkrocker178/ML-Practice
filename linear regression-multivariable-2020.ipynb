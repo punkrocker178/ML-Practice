{
 "cells": [
  {
   "cell_type": "code",
   "execution_count": 1,
   "metadata": {},
   "outputs": [],
   "source": [
    "import numpy as np\n",
    "#import matplotlib.pyplot as plt\n",
    "# lacuong@it.tdt.edu.vn "
   ]
  },
  {
   "cell_type": "code",
   "execution_count": 2,
   "metadata": {},
   "outputs": [
    {
     "name": "stdout",
     "output_type": "stream",
     "text": [
      "(2, 7)\n",
      "one:\n",
      " [[1.]\n",
      " [1.]\n",
      " [1.]\n",
      " [1.]\n",
      " [1.]\n",
      " [1.]\n",
      " [1.]]\n",
      "X:\n",
      " [[1.  1.5]\n",
      " [2.  2.5]\n",
      " [3.  3.5]\n",
      " [4.  4.5]\n",
      " [5.  5.5]\n",
      " [6.  6.5]\n",
      " [7.  7.5]]\n",
      "X new:\n",
      " [[1.  1.  1.5]\n",
      " [1.  2.  2.5]\n",
      " [1.  3.  3.5]\n",
      " [1.  4.  4.5]\n",
      " [1.  5.  5.5]\n",
      " [1.  6.  6.5]\n",
      " [1.  7.  7.5]]\n"
     ]
    }
   ],
   "source": [
    "# Khởi tạo dữ liệu đầu vào X. Trong đó có X có 3 biến (x0, x1, x2) và 7 dòng dữ liệu\n",
    "X = np.array([[1,2,3,4,5,6,7],\n",
    "              [1.5,2.5,3.5,4.5,5.5,6.5,7.5]])\n",
    "y = np.array([[2,4,6,8,10,12,14]])\n",
    "print(X.shape)\n",
    "one = np.ones((X.shape[1], 1))\n",
    "print('one:\\n',one)\n",
    "X = np.array(X).T\n",
    "print('X:\\n',X)\n",
    "X = np.concatenate((one,X),axis=1)\n",
    "y = np.array(y).T\n",
    "print('X new:\\n',X)\n"
   ]
  },
  {
   "cell_type": "code",
   "execution_count": 3,
   "metadata": {},
   "outputs": [],
   "source": [
    "# step 1: initialize and forward propagate  \n",
    "# y = w0xi0 + w1xi1 + w2xi2\n",
    "def f(X,W):\n",
    "    # Tích của ma trận X và W\n",
    "    return np.dot(X,W) "
   ]
  },
  {
   "cell_type": "code",
   "execution_count": 4,
   "metadata": {},
   "outputs": [],
   "source": [
    "# step 2: loss function \n",
    "def loss(X,Y):\n",
    "    sum = 0\n",
    "    for i in range(len(X)):\n",
    "        sum += (f(X[i],W)-Y[i])**2\n",
    "    return sum/len(X) "
   ]
  },
  {
   "cell_type": "code",
   "execution_count": 5,
   "metadata": {},
   "outputs": [],
   "source": [
    "#print(X.shape)\n",
    "a = []\n",
    "a.append(1)"
   ]
  },
  {
   "cell_type": "code",
   "execution_count": 6,
   "metadata": {},
   "outputs": [],
   "source": [
    "# step 3: Differentiation\n",
    "def derivate(X,Y,W):\n",
    "    d=[]\n",
    "    for k in range(X.shape[1]):\n",
    "        sum = 0\n",
    "        for i in range(X.shape[0]):\n",
    "            sum += (f(X[i],W)-Y[i])*X[i][k]\n",
    "        d.append(sum/X.shape[0])\n",
    "    return np.array(d)"
   ]
  },
  {
   "cell_type": "code",
   "execution_count": 7,
   "metadata": {},
   "outputs": [
    {
     "name": "stdout",
     "output_type": "stream",
     "text": [
      "[[ 29.5 ]\n",
      " [144.  ]\n",
      " [158.75]]\n",
      "[[ 2.95 ]\n",
      " [14.4  ]\n",
      " [15.875]]\n",
      "[[ -1.95 ]\n",
      " [-10.9  ]\n",
      " [-10.875]]\n"
     ]
    }
   ],
   "source": [
    "#test Thử nghiệm áp dụng gradient descent\n",
    "W = np.array([[1,3.5,5]]).T\n",
    "d = derivate(X,y,W)\n",
    "print(d)\n",
    "d = 0.1*d\n",
    "print(d)\n",
    "W=W-d\n",
    "print(W)"
   ]
  },
  {
   "cell_type": "code",
   "execution_count": 8,
   "metadata": {},
   "outputs": [
    {
     "name": "stdout",
     "output_type": "stream",
     "text": [
      "0 :  [80.]\n",
      "1 :  [24.218]\n",
      "2 :  [7.37449966]\n",
      "3 :  [2.28839461]\n",
      "4 :  [0.75241018]\n",
      "5 :  [0.28837784]\n",
      "6 :  [0.14802006]\n",
      "7 :  [0.10539607]\n",
      "8 :  [0.09228356]\n",
      "W:\n",
      "[[0.16838207]\n",
      " [0.88685178]\n",
      " [0.97104281]]\n"
     ]
    }
   ],
   "source": [
    "# step 4: update weight \n",
    "epoch = 50\n",
    "\n",
    "# Độ bias\n",
    "learning_rate = 0.01\n",
    "\n",
    "# Mức xấp xỉ\n",
    "epsilon = 0.01\n",
    "\n",
    "# Khởi tạo Điểm đầu vào của w0 w1 w2 là 0\n",
    "W = np.array([[0,0,0]]).T\n",
    "for iter in range(epoch):\n",
    "    before_loss = loss(X,y)\n",
    "    print(iter,': ',before_loss) \n",
    "    \n",
    "    #Gradient descent\n",
    "    d = derivate(X,y,W)\n",
    "    W = W-learning_rate*d\n",
    "    \n",
    "    # Nếu before_loss đạt cực tiểu thì thoát vòng lặp\n",
    "    if before_loss-loss(X,y) < epsilon:\n",
    "        break \n",
    "# print result \n",
    "print('W:')\n",
    "print(W)\n",
    "    "
   ]
  },
  {
   "cell_type": "code",
   "execution_count": null,
   "metadata": {},
   "outputs": [],
   "source": []
  },
  {
   "cell_type": "code",
   "execution_count": null,
   "metadata": {},
   "outputs": [],
   "source": []
  },
  {
   "cell_type": "code",
   "execution_count": null,
   "metadata": {},
   "outputs": [],
   "source": []
  }
 ],
 "metadata": {
  "kernelspec": {
   "display_name": "Python 3",
   "language": "python",
   "name": "python3"
  },
  "language_info": {
   "codemirror_mode": {
    "name": "ipython",
    "version": 3
   },
   "file_extension": ".py",
   "mimetype": "text/x-python",
   "name": "python",
   "nbconvert_exporter": "python",
   "pygments_lexer": "ipython3",
   "version": "3.8.5"
  }
 },
 "nbformat": 4,
 "nbformat_minor": 2
}
